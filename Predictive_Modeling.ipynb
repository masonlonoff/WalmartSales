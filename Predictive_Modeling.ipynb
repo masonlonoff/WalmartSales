{
 "cells": [
  {
   "attachments": {},
   "cell_type": "markdown",
   "metadata": {},
   "source": [
    "## Predictive Modeling and Comparison of Results"
   ]
  },
  {
   "attachments": {},
   "cell_type": "markdown",
   "metadata": {},
   "source": [
    "This file will create various models to predict Weekly Sales. It will also measure the accuracy of each model and compare their results."
   ]
  },
  {
   "attachments": {},
   "cell_type": "markdown",
   "metadata": {},
   "source": [
    "**Import** neccessary **libraries**"
   ]
  },
  {
   "cell_type": "code",
   "execution_count": 1,
   "metadata": {},
   "outputs": [],
   "source": [
    "import pandas as pd\n",
    "import numpy as np\n",
    "from sklearn.model_selection import train_test_split\n",
    "from sklearn.linear_model import Lasso, LinearRegression, Ridge\n",
    "from sklearn.decomposition import PCA\n",
    "from sklearn.preprocessing import StandardScaler\n",
    "from sklearn.metrics import r2_score,mean_absolute_error, mean_squared_error, mean_absolute_percentage_error\n",
    "import warnings\n",
    "warnings.filterwarnings(\"ignore\")\n",
    "from sklearn.preprocessing import PolynomialFeatures\n",
    "from sklearn.model_selection import cross_val_score\n",
    "from sklearn.svm import SVR\n",
    "from sklearn.tree import DecisionTreeRegressor\n",
    "from sklearn.ensemble import RandomForestRegressor\n",
    "from sklearn.neighbors import KNeighborsRegressor\n",
    "import xgboost as xgb\n",
    "from tensorflow.keras.models import Sequential\n",
    "from tensorflow.keras.layers import Dense\n",
    "from tensorflow.keras.optimizers import Adam\n"
   ]
  },
  {
   "attachments": {},
   "cell_type": "markdown",
   "metadata": {},
   "source": [
    "**Load In** the **Machine Learning** dataset "
   ]
  },
  {
   "cell_type": "code",
   "execution_count": 2,
   "metadata": {},
   "outputs": [
    {
     "data": {
      "text/html": [
       "<div>\n",
       "<style scoped>\n",
       "    .dataframe tbody tr th:only-of-type {\n",
       "        vertical-align: middle;\n",
       "    }\n",
       "\n",
       "    .dataframe tbody tr th {\n",
       "        vertical-align: top;\n",
       "    }\n",
       "\n",
       "    .dataframe thead th {\n",
       "        text-align: right;\n",
       "    }\n",
       "</style>\n",
       "<table border=\"1\" class=\"dataframe\">\n",
       "  <thead>\n",
       "    <tr style=\"text-align: right;\">\n",
       "      <th></th>\n",
       "      <th>Weekly_Sales</th>\n",
       "      <th>Holiday_Flag</th>\n",
       "      <th>Temperature</th>\n",
       "      <th>Fuel_Price</th>\n",
       "      <th>CPI</th>\n",
       "      <th>Unemployment</th>\n",
       "      <th>Store_2</th>\n",
       "      <th>Store_3</th>\n",
       "      <th>Store_4</th>\n",
       "      <th>Store_5</th>\n",
       "      <th>...</th>\n",
       "      <th>Store_45</th>\n",
       "      <th>year_sin</th>\n",
       "      <th>year_cos</th>\n",
       "      <th>month_sin</th>\n",
       "      <th>month_cos</th>\n",
       "      <th>day_sin</th>\n",
       "      <th>day_cos</th>\n",
       "      <th>Season_Spring</th>\n",
       "      <th>Season_Summer</th>\n",
       "      <th>Season_Winter</th>\n",
       "    </tr>\n",
       "  </thead>\n",
       "  <tbody>\n",
       "    <tr>\n",
       "      <th>0</th>\n",
       "      <td>1643690.90</td>\n",
       "      <td>0</td>\n",
       "      <td>42.31</td>\n",
       "      <td>2.572</td>\n",
       "      <td>211.096358</td>\n",
       "      <td>8.106</td>\n",
       "      <td>0</td>\n",
       "      <td>0</td>\n",
       "      <td>0</td>\n",
       "      <td>0</td>\n",
       "      <td>...</td>\n",
       "      <td>0</td>\n",
       "      <td>-6.245670e-03</td>\n",
       "      <td>0.99998</td>\n",
       "      <td>5.000000e-01</td>\n",
       "      <td>-8.660254e-01</td>\n",
       "      <td>0.394356</td>\n",
       "      <td>0.918958</td>\n",
       "      <td>1</td>\n",
       "      <td>0</td>\n",
       "      <td>0</td>\n",
       "    </tr>\n",
       "    <tr>\n",
       "      <th>1</th>\n",
       "      <td>1641957.44</td>\n",
       "      <td>1</td>\n",
       "      <td>38.51</td>\n",
       "      <td>2.548</td>\n",
       "      <td>211.242170</td>\n",
       "      <td>8.106</td>\n",
       "      <td>0</td>\n",
       "      <td>0</td>\n",
       "      <td>0</td>\n",
       "      <td>0</td>\n",
       "      <td>...</td>\n",
       "      <td>0</td>\n",
       "      <td>-6.245670e-03</td>\n",
       "      <td>0.99998</td>\n",
       "      <td>8.660254e-01</td>\n",
       "      <td>5.000000e-01</td>\n",
       "      <td>0.433884</td>\n",
       "      <td>-0.900969</td>\n",
       "      <td>0</td>\n",
       "      <td>0</td>\n",
       "      <td>0</td>\n",
       "    </tr>\n",
       "    <tr>\n",
       "      <th>2</th>\n",
       "      <td>1611968.17</td>\n",
       "      <td>0</td>\n",
       "      <td>39.93</td>\n",
       "      <td>2.514</td>\n",
       "      <td>211.289143</td>\n",
       "      <td>8.106</td>\n",
       "      <td>0</td>\n",
       "      <td>0</td>\n",
       "      <td>0</td>\n",
       "      <td>0</td>\n",
       "      <td>...</td>\n",
       "      <td>0</td>\n",
       "      <td>-6.245670e-03</td>\n",
       "      <td>0.99998</td>\n",
       "      <td>8.660254e-01</td>\n",
       "      <td>5.000000e-01</td>\n",
       "      <td>-0.900969</td>\n",
       "      <td>-0.433884</td>\n",
       "      <td>0</td>\n",
       "      <td>0</td>\n",
       "      <td>1</td>\n",
       "    </tr>\n",
       "    <tr>\n",
       "      <th>3</th>\n",
       "      <td>1409727.59</td>\n",
       "      <td>0</td>\n",
       "      <td>46.63</td>\n",
       "      <td>2.561</td>\n",
       "      <td>211.319643</td>\n",
       "      <td>8.106</td>\n",
       "      <td>0</td>\n",
       "      <td>0</td>\n",
       "      <td>0</td>\n",
       "      <td>0</td>\n",
       "      <td>...</td>\n",
       "      <td>0</td>\n",
       "      <td>-6.245670e-03</td>\n",
       "      <td>0.99998</td>\n",
       "      <td>8.660254e-01</td>\n",
       "      <td>5.000000e-01</td>\n",
       "      <td>-0.433884</td>\n",
       "      <td>0.900969</td>\n",
       "      <td>0</td>\n",
       "      <td>0</td>\n",
       "      <td>1</td>\n",
       "    </tr>\n",
       "    <tr>\n",
       "      <th>4</th>\n",
       "      <td>1554806.68</td>\n",
       "      <td>0</td>\n",
       "      <td>46.50</td>\n",
       "      <td>2.625</td>\n",
       "      <td>211.350143</td>\n",
       "      <td>8.106</td>\n",
       "      <td>0</td>\n",
       "      <td>0</td>\n",
       "      <td>0</td>\n",
       "      <td>0</td>\n",
       "      <td>...</td>\n",
       "      <td>0</td>\n",
       "      <td>-6.245670e-03</td>\n",
       "      <td>0.99998</td>\n",
       "      <td>5.000000e-01</td>\n",
       "      <td>-8.660254e-01</td>\n",
       "      <td>0.571268</td>\n",
       "      <td>0.820763</td>\n",
       "      <td>1</td>\n",
       "      <td>0</td>\n",
       "      <td>0</td>\n",
       "    </tr>\n",
       "    <tr>\n",
       "      <th>...</th>\n",
       "      <td>...</td>\n",
       "      <td>...</td>\n",
       "      <td>...</td>\n",
       "      <td>...</td>\n",
       "      <td>...</td>\n",
       "      <td>...</td>\n",
       "      <td>...</td>\n",
       "      <td>...</td>\n",
       "      <td>...</td>\n",
       "      <td>...</td>\n",
       "      <td>...</td>\n",
       "      <td>...</td>\n",
       "      <td>...</td>\n",
       "      <td>...</td>\n",
       "      <td>...</td>\n",
       "      <td>...</td>\n",
       "      <td>...</td>\n",
       "      <td>...</td>\n",
       "      <td>...</td>\n",
       "      <td>...</td>\n",
       "      <td>...</td>\n",
       "    </tr>\n",
       "    <tr>\n",
       "      <th>6430</th>\n",
       "      <td>713173.95</td>\n",
       "      <td>0</td>\n",
       "      <td>64.88</td>\n",
       "      <td>3.997</td>\n",
       "      <td>192.013558</td>\n",
       "      <td>8.684</td>\n",
       "      <td>0</td>\n",
       "      <td>0</td>\n",
       "      <td>0</td>\n",
       "      <td>0</td>\n",
       "      <td>...</td>\n",
       "      <td>1</td>\n",
       "      <td>-2.449294e-16</td>\n",
       "      <td>1.00000</td>\n",
       "      <td>-1.000000e+00</td>\n",
       "      <td>-1.836970e-16</td>\n",
       "      <td>-0.406737</td>\n",
       "      <td>0.913545</td>\n",
       "      <td>0</td>\n",
       "      <td>0</td>\n",
       "      <td>0</td>\n",
       "    </tr>\n",
       "    <tr>\n",
       "      <th>6431</th>\n",
       "      <td>733455.07</td>\n",
       "      <td>0</td>\n",
       "      <td>64.89</td>\n",
       "      <td>3.985</td>\n",
       "      <td>192.170412</td>\n",
       "      <td>8.667</td>\n",
       "      <td>0</td>\n",
       "      <td>0</td>\n",
       "      <td>0</td>\n",
       "      <td>0</td>\n",
       "      <td>...</td>\n",
       "      <td>1</td>\n",
       "      <td>-2.449294e-16</td>\n",
       "      <td>1.00000</td>\n",
       "      <td>5.000000e-01</td>\n",
       "      <td>-8.660254e-01</td>\n",
       "      <td>0.897805</td>\n",
       "      <td>-0.440394</td>\n",
       "      <td>1</td>\n",
       "      <td>0</td>\n",
       "      <td>0</td>\n",
       "    </tr>\n",
       "    <tr>\n",
       "      <th>6432</th>\n",
       "      <td>734464.36</td>\n",
       "      <td>0</td>\n",
       "      <td>54.47</td>\n",
       "      <td>4.000</td>\n",
       "      <td>192.327265</td>\n",
       "      <td>8.667</td>\n",
       "      <td>0</td>\n",
       "      <td>0</td>\n",
       "      <td>0</td>\n",
       "      <td>0</td>\n",
       "      <td>...</td>\n",
       "      <td>1</td>\n",
       "      <td>-2.449294e-16</td>\n",
       "      <td>1.00000</td>\n",
       "      <td>-2.449294e-16</td>\n",
       "      <td>1.000000e+00</td>\n",
       "      <td>0.897805</td>\n",
       "      <td>-0.440394</td>\n",
       "      <td>0</td>\n",
       "      <td>0</td>\n",
       "      <td>0</td>\n",
       "    </tr>\n",
       "    <tr>\n",
       "      <th>6433</th>\n",
       "      <td>718125.53</td>\n",
       "      <td>0</td>\n",
       "      <td>56.47</td>\n",
       "      <td>3.969</td>\n",
       "      <td>192.330854</td>\n",
       "      <td>8.667</td>\n",
       "      <td>0</td>\n",
       "      <td>0</td>\n",
       "      <td>0</td>\n",
       "      <td>0</td>\n",
       "      <td>...</td>\n",
       "      <td>1</td>\n",
       "      <td>-2.449294e-16</td>\n",
       "      <td>1.00000</td>\n",
       "      <td>-8.660254e-01</td>\n",
       "      <td>5.000000e-01</td>\n",
       "      <td>-0.651372</td>\n",
       "      <td>-0.758758</td>\n",
       "      <td>0</td>\n",
       "      <td>0</td>\n",
       "      <td>0</td>\n",
       "    </tr>\n",
       "    <tr>\n",
       "      <th>6434</th>\n",
       "      <td>760281.43</td>\n",
       "      <td>0</td>\n",
       "      <td>58.85</td>\n",
       "      <td>3.882</td>\n",
       "      <td>192.308899</td>\n",
       "      <td>8.667</td>\n",
       "      <td>0</td>\n",
       "      <td>0</td>\n",
       "      <td>0</td>\n",
       "      <td>0</td>\n",
       "      <td>...</td>\n",
       "      <td>1</td>\n",
       "      <td>-2.449294e-16</td>\n",
       "      <td>1.00000</td>\n",
       "      <td>-8.660254e-01</td>\n",
       "      <td>5.000000e-01</td>\n",
       "      <td>-0.848644</td>\n",
       "      <td>0.528964</td>\n",
       "      <td>0</td>\n",
       "      <td>0</td>\n",
       "      <td>0</td>\n",
       "    </tr>\n",
       "  </tbody>\n",
       "</table>\n",
       "<p>6435 rows × 59 columns</p>\n",
       "</div>"
      ],
      "text/plain": [
       "      Weekly_Sales  Holiday_Flag  Temperature  Fuel_Price         CPI  \\\n",
       "0       1643690.90             0        42.31       2.572  211.096358   \n",
       "1       1641957.44             1        38.51       2.548  211.242170   \n",
       "2       1611968.17             0        39.93       2.514  211.289143   \n",
       "3       1409727.59             0        46.63       2.561  211.319643   \n",
       "4       1554806.68             0        46.50       2.625  211.350143   \n",
       "...            ...           ...          ...         ...         ...   \n",
       "6430     713173.95             0        64.88       3.997  192.013558   \n",
       "6431     733455.07             0        64.89       3.985  192.170412   \n",
       "6432     734464.36             0        54.47       4.000  192.327265   \n",
       "6433     718125.53             0        56.47       3.969  192.330854   \n",
       "6434     760281.43             0        58.85       3.882  192.308899   \n",
       "\n",
       "      Unemployment  Store_2  Store_3  Store_4  Store_5  ...  Store_45  \\\n",
       "0            8.106        0        0        0        0  ...         0   \n",
       "1            8.106        0        0        0        0  ...         0   \n",
       "2            8.106        0        0        0        0  ...         0   \n",
       "3            8.106        0        0        0        0  ...         0   \n",
       "4            8.106        0        0        0        0  ...         0   \n",
       "...            ...      ...      ...      ...      ...  ...       ...   \n",
       "6430         8.684        0        0        0        0  ...         1   \n",
       "6431         8.667        0        0        0        0  ...         1   \n",
       "6432         8.667        0        0        0        0  ...         1   \n",
       "6433         8.667        0        0        0        0  ...         1   \n",
       "6434         8.667        0        0        0        0  ...         1   \n",
       "\n",
       "          year_sin  year_cos     month_sin     month_cos   day_sin   day_cos  \\\n",
       "0    -6.245670e-03   0.99998  5.000000e-01 -8.660254e-01  0.394356  0.918958   \n",
       "1    -6.245670e-03   0.99998  8.660254e-01  5.000000e-01  0.433884 -0.900969   \n",
       "2    -6.245670e-03   0.99998  8.660254e-01  5.000000e-01 -0.900969 -0.433884   \n",
       "3    -6.245670e-03   0.99998  8.660254e-01  5.000000e-01 -0.433884  0.900969   \n",
       "4    -6.245670e-03   0.99998  5.000000e-01 -8.660254e-01  0.571268  0.820763   \n",
       "...            ...       ...           ...           ...       ...       ...   \n",
       "6430 -2.449294e-16   1.00000 -1.000000e+00 -1.836970e-16 -0.406737  0.913545   \n",
       "6431 -2.449294e-16   1.00000  5.000000e-01 -8.660254e-01  0.897805 -0.440394   \n",
       "6432 -2.449294e-16   1.00000 -2.449294e-16  1.000000e+00  0.897805 -0.440394   \n",
       "6433 -2.449294e-16   1.00000 -8.660254e-01  5.000000e-01 -0.651372 -0.758758   \n",
       "6434 -2.449294e-16   1.00000 -8.660254e-01  5.000000e-01 -0.848644  0.528964   \n",
       "\n",
       "      Season_Spring  Season_Summer  Season_Winter  \n",
       "0                 1              0              0  \n",
       "1                 0              0              0  \n",
       "2                 0              0              1  \n",
       "3                 0              0              1  \n",
       "4                 1              0              0  \n",
       "...             ...            ...            ...  \n",
       "6430              0              0              0  \n",
       "6431              1              0              0  \n",
       "6432              0              0              0  \n",
       "6433              0              0              0  \n",
       "6434              0              0              0  \n",
       "\n",
       "[6435 rows x 59 columns]"
      ]
     },
     "execution_count": 2,
     "metadata": {},
     "output_type": "execute_result"
    }
   ],
   "source": [
    "df = pd.read_csv('ml_df.csv')\n",
    "df"
   ]
  },
  {
   "attachments": {},
   "cell_type": "markdown",
   "metadata": {},
   "source": [
    "Split the df into **Features** (X) and **Target Variable** (y)"
   ]
  },
  {
   "cell_type": "code",
   "execution_count": 3,
   "metadata": {},
   "outputs": [
    {
     "data": {
      "text/plain": [
       "array([[ 0.   , 42.31 ,  2.572, ...,  1.   ,  0.   ,  0.   ],\n",
       "       [ 1.   , 38.51 ,  2.548, ...,  0.   ,  0.   ,  0.   ],\n",
       "       [ 0.   , 39.93 ,  2.514, ...,  0.   ,  0.   ,  1.   ],\n",
       "       ...,\n",
       "       [ 0.   , 54.47 ,  4.   , ...,  0.   ,  0.   ,  0.   ],\n",
       "       [ 0.   , 56.47 ,  3.969, ...,  0.   ,  0.   ,  0.   ],\n",
       "       [ 0.   , 58.85 ,  3.882, ...,  0.   ,  0.   ,  0.   ]])"
      ]
     },
     "execution_count": 3,
     "metadata": {},
     "output_type": "execute_result"
    }
   ],
   "source": [
    "X = df.iloc[:, 1:].values\n",
    "X"
   ]
  },
  {
   "cell_type": "code",
   "execution_count": 4,
   "metadata": {},
   "outputs": [
    {
     "data": {
      "text/plain": [
       "array([1643690.9 , 1641957.44, 1611968.17, ...,  734464.36,  718125.53,\n",
       "        760281.43])"
      ]
     },
     "execution_count": 4,
     "metadata": {},
     "output_type": "execute_result"
    }
   ],
   "source": [
    "y = df.iloc[:, 0].values\n",
    "y"
   ]
  },
  {
   "attachments": {},
   "cell_type": "markdown",
   "metadata": {},
   "source": [
    "### Multiple Linear Regression"
   ]
  },
  {
   "attachments": {},
   "cell_type": "markdown",
   "metadata": {},
   "source": [
    "Splitting the Dataset Into **Training** and **Test** Sets"
   ]
  },
  {
   "cell_type": "code",
   "execution_count": 5,
   "metadata": {},
   "outputs": [],
   "source": [
    "X_train, X_test, y_train, y_test = train_test_split(X, y, test_size=0.2, random_state=1)"
   ]
  },
  {
   "attachments": {},
   "cell_type": "markdown",
   "metadata": {},
   "source": [
    "**Training** the model"
   ]
  },
  {
   "cell_type": "code",
   "execution_count": 6,
   "metadata": {},
   "outputs": [
    {
     "data": {
      "text/plain": [
       "LinearRegression()"
      ]
     },
     "execution_count": 6,
     "metadata": {},
     "output_type": "execute_result"
    }
   ],
   "source": [
    "regressor = LinearRegression()\n",
    "regressor.fit(X_train, y_train)"
   ]
  },
  {
   "attachments": {},
   "cell_type": "markdown",
   "metadata": {},
   "source": [
    "**Predicting** the **Test** Set Results"
   ]
  },
  {
   "cell_type": "code",
   "execution_count": 13,
   "metadata": {},
   "outputs": [
    {
     "name": "stdout",
     "output_type": "stream",
     "text": [
      "['2029926.52', '1870619.23']\n",
      "['494411.69', '448391.99']\n",
      "['1351701.85', '1272948.27']\n",
      "['710760.78', '744969.42']\n",
      "['395779.55', '325345.41']\n",
      "['2159672.29', '2080529.06']\n",
      "['526660.84', '528832.54']\n",
      "['486167.02', '457504.35']\n",
      "['989823.71', '921612.53']\n",
      "['2117189.34', '2135982.79']\n"
     ]
    }
   ],
   "source": [
    "y_pred = regressor.predict(X_test)\n",
    "np.set_printoptions(precision=2)\n",
    "\n",
    "output = np.concatenate((y_pred.reshape(len(y_pred), 1), y_test.reshape(len(y_test), 1)), 1)\n",
    "formatted_output = [[f'{pred:.2f}' for pred in row] for row in output]\n",
    "\n",
    "for i, row in enumerate(formatted_output):\n",
    "    print(row)\n",
    "    if i == 9:\n",
    "        break\n"
   ]
  },
  {
   "attachments": {},
   "cell_type": "markdown",
   "metadata": {},
   "source": [
    "Calculating Different **Accuracy** Measures"
   ]
  },
  {
   "cell_type": "code",
   "execution_count": 8,
   "metadata": {},
   "outputs": [
    {
     "name": "stdout",
     "output_type": "stream",
     "text": [
      "Mean Absolute Error (MAE): 93456.23921900992\n",
      "Mean Squared Error (MSE): 26504870719.634964\n",
      "Root Mean Squared Error (RMSE): 162803.16557006797\n",
      "The r-squared score (R^2): 0.9197706842183846\n",
      "The Mean Percent Error (MPE): 9.236949826826544\n"
     ]
    }
   ],
   "source": [
    "# Assuming y_test contains the actual values and y_pred contains the predicted values\n",
    "mae = mean_absolute_error(y_test, y_pred)\n",
    "mse = mean_squared_error(y_test, y_pred)\n",
    "rmse = mean_squared_error(y_test, y_pred, squared=False)  # squared=False returns RMSE\n",
    "r2 = r2_score(y_test, y_pred)\n",
    "mpe = mean_absolute_percentage_error(y_test, y_pred) * 100\n",
    "\n",
    "print(\"Mean Absolute Error (MAE):\", mae)\n",
    "print(\"Mean Squared Error (MSE):\", mse)\n",
    "print(\"Root Mean Squared Error (RMSE):\", rmse)\n",
    "print(\"The r-squared score (R^2):\", r2)\n",
    "print(\"The Mean Percent Error (MPE):\", mpe)"
   ]
  },
  {
   "attachments": {},
   "cell_type": "markdown",
   "metadata": {},
   "source": [
    "### Multiple Linear Regression with **Lasso Regularization**"
   ]
  },
  {
   "attachments": {},
   "cell_type": "markdown",
   "metadata": {},
   "source": [
    "**Instantiating**, **Training** and **Predicting** results"
   ]
  },
  {
   "cell_type": "code",
   "execution_count": 14,
   "metadata": {},
   "outputs": [
    {
     "name": "stdout",
     "output_type": "stream",
     "text": [
      "['2030677.33', '1870619.23']\n",
      "['512459.06', '448391.99']\n",
      "['1354140.33', '1272948.27']\n",
      "['717866.48', '744969.42']\n",
      "['368540.65', '325345.41']\n",
      "['2145738.01', '2080529.06']\n",
      "['532473.48', '528832.54']\n",
      "['504110.05', '457504.35']\n",
      "['994216.91', '921612.53']\n",
      "['2108139.43', '2135982.79']\n"
     ]
    }
   ],
   "source": [
    "regressor = Lasso(alpha=1)\n",
    "regressor.fit(X_train, y_train)\n",
    "y_pred = regressor.predict(X_test)\n",
    "\n",
    "np.set_printoptions(precision=2)\n",
    "\n",
    "output = np.concatenate((y_pred.reshape(len(y_pred), 1), y_test.reshape(len(y_test), 1)), 1)\n",
    "formatted_output = [[f'{pred:.2f}' for pred in row] for row in output]\n",
    "\n",
    "for i, row in enumerate(formatted_output):\n",
    "    print(row)\n",
    "    if i == 9:\n",
    "        break"
   ]
  },
  {
   "attachments": {},
   "cell_type": "markdown",
   "metadata": {},
   "source": [
    "Calculating Different **Accuracy** Measures"
   ]
  },
  {
   "cell_type": "code",
   "execution_count": 10,
   "metadata": {},
   "outputs": [
    {
     "name": "stdout",
     "output_type": "stream",
     "text": [
      "Mean Absolute Error (MAE): 92321.77491376526\n",
      "Mean Squared Error (MSE): 26671304343.38257\n",
      "Root Mean Squared Error (RMSE): 163313.51549514377\n",
      "The r-squared score (R^2): 0.9192668954658353\n",
      "The Mean Percent Error (MPE): 8.923841116914613\n"
     ]
    }
   ],
   "source": [
    "# Assuming y_test contains the actual values and y_pred contains the predicted values\n",
    "mae = mean_absolute_error(y_test, y_pred)\n",
    "mse = mean_squared_error(y_test, y_pred)\n",
    "rmse = mean_squared_error(y_test, y_pred, squared=False)  # squared=False returns RMSE\n",
    "r2 = r2_score(y_test, y_pred)\n",
    "mpe = mean_absolute_percentage_error(y_test, y_pred) * 100\n",
    "\n",
    "print(\"Mean Absolute Error (MAE):\", mae)\n",
    "print(\"Mean Squared Error (MSE):\", mse)\n",
    "print(\"Root Mean Squared Error (RMSE):\", rmse)\n",
    "print(\"The r-squared score (R^2):\", r2)\n",
    "print(\"The Mean Percent Error (MPE):\", mpe)"
   ]
  },
  {
   "attachments": {},
   "cell_type": "markdown",
   "metadata": {},
   "source": [
    "### Multiple Linear Regression with **Ridge Regression**"
   ]
  },
  {
   "attachments": {},
   "cell_type": "markdown",
   "metadata": {},
   "source": [
    "**Instantiating**, **Training** and **Predicting** results"
   ]
  },
  {
   "cell_type": "code",
   "execution_count": 15,
   "metadata": {},
   "outputs": [
    {
     "name": "stdout",
     "output_type": "stream",
     "text": [
      "['2075360.09', '1870619.23']\n",
      "['542106.19', '448391.99']\n",
      "['1370530.00', '1272948.27']\n",
      "['710021.85', '744969.42']\n",
      "['373985.90', '325345.41']\n",
      "['2164796.12', '2080529.06']\n",
      "['535482.63', '528832.54']\n",
      "['522760.48', '457504.35']\n",
      "['1020071.40', '921612.53']\n",
      "['2062883.82', '2135982.79']\n"
     ]
    }
   ],
   "source": [
    "regressor = Ridge(alpha = 1)\n",
    "regressor.fit(X_train, y_train)\n",
    "y_pred = regressor.predict(X_test)\n",
    "np.set_printoptions(precision=2)\n",
    "\n",
    "output = np.concatenate((y_pred.reshape(len(y_pred), 1), y_test.reshape(len(y_test), 1)), 1)\n",
    "formatted_output = [[f'{pred:.2f}' for pred in row] for row in output]\n",
    "\n",
    "for i, row in enumerate(formatted_output):\n",
    "    print(row)\n",
    "    if i == 9:\n",
    "        break"
   ]
  },
  {
   "attachments": {},
   "cell_type": "markdown",
   "metadata": {},
   "source": [
    "Calculating Different **Accuracy** Measures"
   ]
  },
  {
   "cell_type": "code",
   "execution_count": 12,
   "metadata": {},
   "outputs": [
    {
     "name": "stdout",
     "output_type": "stream",
     "text": [
      "Mean Absolute Error (MAE): 93986.90813135507\n",
      "Mean Squared Error (MSE): 28115563705.775635\n",
      "Root Mean Squared Error (RMSE): 167676.9623585054\n",
      "The r-squared score (R^2): 0.9148951729367324\n",
      "The Mean Percent Error (MPE): 9.050746028078454\n"
     ]
    }
   ],
   "source": [
    "# Assuming y_test contains the actual values and y_pred contains the predicted values\n",
    "mae = mean_absolute_error(y_test, y_pred)\n",
    "mse = mean_squared_error(y_test, y_pred)\n",
    "rmse = mean_squared_error(y_test, y_pred, squared=False)  # squared=False returns RMSE\n",
    "r2 = r2_score(y_test, y_pred)\n",
    "mpe = mean_absolute_percentage_error(y_test, y_pred) * 100\n",
    "\n",
    "print(\"Mean Absolute Error (MAE):\", mae)\n",
    "print(\"Mean Squared Error (MSE):\", mse)\n",
    "print(\"Root Mean Squared Error (RMSE):\", rmse)\n",
    "print(\"The r-squared score (R^2):\", r2)\n",
    "print(\"The Mean Percent Error (MPE):\", mpe)"
   ]
  },
  {
   "attachments": {},
   "cell_type": "markdown",
   "metadata": {},
   "source": [
    "Next steps. I chose the default alpha value for Lasso and Ridge. To get the optimal alpha value, I need to conduct cross validation to find the best mix of underfitting and overfitting. Accuracy order by MPE: Lasso, ridge, normal"
   ]
  },
  {
   "attachments": {},
   "cell_type": "markdown",
   "metadata": {},
   "source": [
    "### Polynomial Regression **(Degree = 2)**"
   ]
  },
  {
   "attachments": {},
   "cell_type": "markdown",
   "metadata": {},
   "source": [
    "**Reshaping** the **Target Variable** Column"
   ]
  },
  {
   "cell_type": "code",
   "execution_count": 16,
   "metadata": {},
   "outputs": [
    {
     "data": {
      "text/plain": [
       "array([[1643690.9 ],\n",
       "       [1641957.44],\n",
       "       [1611968.17],\n",
       "       ...,\n",
       "       [ 734464.36],\n",
       "       [ 718125.53],\n",
       "       [ 760281.43]])"
      ]
     },
     "execution_count": 16,
     "metadata": {},
     "output_type": "execute_result"
    }
   ],
   "source": [
    "y = y.reshape(len(y), 1)\n",
    "y"
   ]
  },
  {
   "attachments": {},
   "cell_type": "markdown",
   "metadata": {},
   "source": [
    "Splitting the Dataset Into **Training** and **Test** Sets"
   ]
  },
  {
   "cell_type": "code",
   "execution_count": 17,
   "metadata": {},
   "outputs": [],
   "source": [
    "X_train, X_test, y_train, y_test = train_test_split(X, y, test_size=0.2, random_state=1)"
   ]
  },
  {
   "attachments": {},
   "cell_type": "markdown",
   "metadata": {},
   "source": [
    "**Scaling** the Data"
   ]
  },
  {
   "cell_type": "code",
   "execution_count": 18,
   "metadata": {},
   "outputs": [],
   "source": [
    "sc_X = StandardScaler()\n",
    "X_train = sc_X.fit_transform(X_train)\n",
    "X_test = sc_X.transform(X_test)"
   ]
  },
  {
   "attachments": {},
   "cell_type": "markdown",
   "metadata": {},
   "source": [
    "**Training** the Model"
   ]
  },
  {
   "cell_type": "code",
   "execution_count": 19,
   "metadata": {},
   "outputs": [
    {
     "data": {
      "text/plain": [
       "LinearRegression()"
      ]
     },
     "execution_count": 19,
     "metadata": {},
     "output_type": "execute_result"
    }
   ],
   "source": [
    "poly_reg = PolynomialFeatures(degree=2)\n",
    "X_poly = poly_reg.fit_transform(X_train)\n",
    "regressor = LinearRegression()\n",
    "regressor.fit(X_poly, y_train)"
   ]
  },
  {
   "attachments": {},
   "cell_type": "markdown",
   "metadata": {},
   "source": [
    "Making **Predictions**"
   ]
  },
  {
   "cell_type": "code",
   "execution_count": 63,
   "metadata": {},
   "outputs": [],
   "source": [
    "X_poly_test = poly_reg.transform(X_test)  # Apply the same transformation to test data\n",
    "y_pred = regressor.predict(X_poly_test)"
   ]
  },
  {
   "attachments": {},
   "cell_type": "markdown",
   "metadata": {},
   "source": [
    "**Measuring Accuracy**"
   ]
  },
  {
   "cell_type": "code",
   "execution_count": 64,
   "metadata": {},
   "outputs": [
    {
     "name": "stdout",
     "output_type": "stream",
     "text": [
      "Mean Absolute Error (MAE): 70210.19652680654\n",
      "Mean Squared Error (MSE): 11797974088.0625\n",
      "Root Mean Squared Error (RMSE): 108618.47949618196\n",
      "The r-squared score (R^2): 0.9642879454607837\n",
      "The Mean Percent Error (MPE): 8.505344225017039\n"
     ]
    }
   ],
   "source": [
    "# Assuming y_test contains the actual values and y_pred contains the predicted values\n",
    "mae = mean_absolute_error(y_test, y_pred)\n",
    "mse = mean_squared_error(y_test, y_pred)\n",
    "rmse = mean_squared_error(y_test, y_pred, squared=False)  # squared=False returns RMSE\n",
    "r2 = r2_score(y_test, y_pred)\n",
    "mpe = mean_absolute_percentage_error(y_test, y_pred) * 100\n",
    "\n",
    "print(\"Mean Absolute Error (MAE):\", mae)\n",
    "print(\"Mean Squared Error (MSE):\", mse)\n",
    "print(\"Root Mean Squared Error (RMSE):\", rmse)\n",
    "print(\"The r-squared score (R^2):\", r2)\n",
    "print(\"The Mean Percent Error (MPE):\", mpe)"
   ]
  },
  {
   "attachments": {},
   "cell_type": "markdown",
   "metadata": {},
   "source": [
    "### Polynomial Regression **(Degree = 3)**"
   ]
  },
  {
   "cell_type": "code",
   "execution_count": 19,
   "metadata": {},
   "outputs": [
    {
     "data": {
      "text/plain": [
       "array([[ 0.  , 42.31,  2.57, ...,  1.  ,  0.  ,  0.  ],\n",
       "       [ 1.  , 38.51,  2.55, ...,  0.  ,  0.  ,  0.  ],\n",
       "       [ 0.  , 39.93,  2.51, ...,  0.  ,  0.  ,  1.  ],\n",
       "       ...,\n",
       "       [ 0.  , 54.47,  4.  , ...,  0.  ,  0.  ,  0.  ],\n",
       "       [ 0.  , 56.47,  3.97, ...,  0.  ,  0.  ,  0.  ],\n",
       "       [ 0.  , 58.85,  3.88, ...,  0.  ,  0.  ,  0.  ]])"
      ]
     },
     "execution_count": 19,
     "metadata": {},
     "output_type": "execute_result"
    }
   ],
   "source": [
    "X"
   ]
  },
  {
   "cell_type": "code",
   "execution_count": 20,
   "metadata": {},
   "outputs": [
    {
     "data": {
      "text/plain": [
       "array([[1643690.9 ],\n",
       "       [1641957.44],\n",
       "       [1611968.17],\n",
       "       ...,\n",
       "       [ 734464.36],\n",
       "       [ 718125.53],\n",
       "       [ 760281.43]])"
      ]
     },
     "execution_count": 20,
     "metadata": {},
     "output_type": "execute_result"
    }
   ],
   "source": [
    "y = y.reshape(len(y), 1)\n",
    "y"
   ]
  },
  {
   "cell_type": "code",
   "execution_count": 21,
   "metadata": {},
   "outputs": [],
   "source": [
    "X_train, X_test, y_train, y_test = train_test_split(X, y, test_size=0.2, random_state=1)"
   ]
  },
  {
   "cell_type": "code",
   "execution_count": 65,
   "metadata": {},
   "outputs": [],
   "source": [
    "sc_X = StandardScaler()\n",
    "X_train = sc_X.fit_transform(X_train)\n",
    "X_test = sc_X.transform(X_test)"
   ]
  },
  {
   "cell_type": "code",
   "execution_count": 66,
   "metadata": {},
   "outputs": [
    {
     "data": {
      "text/plain": [
       "LinearRegression()"
      ]
     },
     "execution_count": 66,
     "metadata": {},
     "output_type": "execute_result"
    }
   ],
   "source": [
    "poly_reg = PolynomialFeatures(degree=3)\n",
    "X_poly = poly_reg.fit_transform(X_train)\n",
    "regressor = LinearRegression()\n",
    "regressor.fit(X_poly, y_train)"
   ]
  },
  {
   "cell_type": "code",
   "execution_count": 67,
   "metadata": {},
   "outputs": [],
   "source": [
    "X_poly_test = poly_reg.transform(X_test)  # Apply the same transformation to test data\n",
    "y_pred = regressor.predict(X_poly_test)"
   ]
  },
  {
   "cell_type": "code",
   "execution_count": 68,
   "metadata": {},
   "outputs": [
    {
     "name": "stdout",
     "output_type": "stream",
     "text": [
      "Mean Absolute Error (MAE): 418418109.9586359\n",
      "Mean Squared Error (MSE): 6.443587613610712e+18\n",
      "Root Mean Squared Error (RMSE): 2538422268.5776124\n",
      "The r-squared score (R^2): -19504513.128262054\n",
      "The Mean Percent Error (MPE): 69125.77232994547\n"
     ]
    }
   ],
   "source": [
    "# Assuming y_test contains the actual values and y_pred contains the predicted values\n",
    "mae = mean_absolute_error(y_test, y_pred)\n",
    "mse = mean_squared_error(y_test, y_pred)\n",
    "rmse = mean_squared_error(y_test, y_pred, squared=False)  # squared=False returns RMSE\n",
    "r2 = r2_score(y_test, y_pred)\n",
    "mpe = mean_absolute_percentage_error(y_test, y_pred) * 100\n",
    "\n",
    "print(\"Mean Absolute Error (MAE):\", mae)\n",
    "print(\"Mean Squared Error (MSE):\", mse)\n",
    "print(\"Root Mean Squared Error (RMSE):\", rmse)\n",
    "print(\"The r-squared score (R^2):\", r2)\n",
    "print(\"The Mean Percent Error (MPE):\", mpe)"
   ]
  },
  {
   "attachments": {},
   "cell_type": "markdown",
   "metadata": {},
   "source": [
    "### Due to Memory Issues I was not able to run a Polynomial Regression with **Degree >= 4**. However, I dropped all the *Store* Columns and that allowed me to run higher degree Polynomial Regressions"
   ]
  },
  {
   "attachments": {},
   "cell_type": "markdown",
   "metadata": {},
   "source": [
    "## Polynomial Regression with new DF (Degree = 4)"
   ]
  },
  {
   "attachments": {},
   "cell_type": "markdown",
   "metadata": {},
   "source": [
    "**Create the new dataset**"
   ]
  },
  {
   "cell_type": "code",
   "execution_count": 71,
   "metadata": {},
   "outputs": [],
   "source": [
    "df_new = df.drop(df.columns[df.columns.str.startswith('Store')], axis=1)"
   ]
  },
  {
   "cell_type": "code",
   "execution_count": 72,
   "metadata": {},
   "outputs": [
    {
     "data": {
      "text/html": [
       "<div>\n",
       "<style scoped>\n",
       "    .dataframe tbody tr th:only-of-type {\n",
       "        vertical-align: middle;\n",
       "    }\n",
       "\n",
       "    .dataframe tbody tr th {\n",
       "        vertical-align: top;\n",
       "    }\n",
       "\n",
       "    .dataframe thead th {\n",
       "        text-align: right;\n",
       "    }\n",
       "</style>\n",
       "<table border=\"1\" class=\"dataframe\">\n",
       "  <thead>\n",
       "    <tr style=\"text-align: right;\">\n",
       "      <th></th>\n",
       "      <th>Weekly_Sales</th>\n",
       "      <th>Holiday_Flag</th>\n",
       "      <th>Temperature</th>\n",
       "      <th>Fuel_Price</th>\n",
       "      <th>CPI</th>\n",
       "      <th>Unemployment</th>\n",
       "      <th>year_sin</th>\n",
       "      <th>year_cos</th>\n",
       "      <th>month_sin</th>\n",
       "      <th>month_cos</th>\n",
       "      <th>day_sin</th>\n",
       "      <th>day_cos</th>\n",
       "      <th>Season_Spring</th>\n",
       "      <th>Season_Summer</th>\n",
       "      <th>Season_Winter</th>\n",
       "    </tr>\n",
       "  </thead>\n",
       "  <tbody>\n",
       "    <tr>\n",
       "      <th>0</th>\n",
       "      <td>1643690.90</td>\n",
       "      <td>0</td>\n",
       "      <td>42.31</td>\n",
       "      <td>2.572</td>\n",
       "      <td>211.096358</td>\n",
       "      <td>8.106</td>\n",
       "      <td>-6.245670e-03</td>\n",
       "      <td>0.99998</td>\n",
       "      <td>5.000000e-01</td>\n",
       "      <td>-8.660254e-01</td>\n",
       "      <td>0.394356</td>\n",
       "      <td>0.918958</td>\n",
       "      <td>1</td>\n",
       "      <td>0</td>\n",
       "      <td>0</td>\n",
       "    </tr>\n",
       "    <tr>\n",
       "      <th>1</th>\n",
       "      <td>1641957.44</td>\n",
       "      <td>1</td>\n",
       "      <td>38.51</td>\n",
       "      <td>2.548</td>\n",
       "      <td>211.242170</td>\n",
       "      <td>8.106</td>\n",
       "      <td>-6.245670e-03</td>\n",
       "      <td>0.99998</td>\n",
       "      <td>8.660254e-01</td>\n",
       "      <td>5.000000e-01</td>\n",
       "      <td>0.433884</td>\n",
       "      <td>-0.900969</td>\n",
       "      <td>0</td>\n",
       "      <td>0</td>\n",
       "      <td>0</td>\n",
       "    </tr>\n",
       "    <tr>\n",
       "      <th>2</th>\n",
       "      <td>1611968.17</td>\n",
       "      <td>0</td>\n",
       "      <td>39.93</td>\n",
       "      <td>2.514</td>\n",
       "      <td>211.289143</td>\n",
       "      <td>8.106</td>\n",
       "      <td>-6.245670e-03</td>\n",
       "      <td>0.99998</td>\n",
       "      <td>8.660254e-01</td>\n",
       "      <td>5.000000e-01</td>\n",
       "      <td>-0.900969</td>\n",
       "      <td>-0.433884</td>\n",
       "      <td>0</td>\n",
       "      <td>0</td>\n",
       "      <td>1</td>\n",
       "    </tr>\n",
       "    <tr>\n",
       "      <th>3</th>\n",
       "      <td>1409727.59</td>\n",
       "      <td>0</td>\n",
       "      <td>46.63</td>\n",
       "      <td>2.561</td>\n",
       "      <td>211.319643</td>\n",
       "      <td>8.106</td>\n",
       "      <td>-6.245670e-03</td>\n",
       "      <td>0.99998</td>\n",
       "      <td>8.660254e-01</td>\n",
       "      <td>5.000000e-01</td>\n",
       "      <td>-0.433884</td>\n",
       "      <td>0.900969</td>\n",
       "      <td>0</td>\n",
       "      <td>0</td>\n",
       "      <td>1</td>\n",
       "    </tr>\n",
       "    <tr>\n",
       "      <th>4</th>\n",
       "      <td>1554806.68</td>\n",
       "      <td>0</td>\n",
       "      <td>46.50</td>\n",
       "      <td>2.625</td>\n",
       "      <td>211.350143</td>\n",
       "      <td>8.106</td>\n",
       "      <td>-6.245670e-03</td>\n",
       "      <td>0.99998</td>\n",
       "      <td>5.000000e-01</td>\n",
       "      <td>-8.660254e-01</td>\n",
       "      <td>0.571268</td>\n",
       "      <td>0.820763</td>\n",
       "      <td>1</td>\n",
       "      <td>0</td>\n",
       "      <td>0</td>\n",
       "    </tr>\n",
       "    <tr>\n",
       "      <th>...</th>\n",
       "      <td>...</td>\n",
       "      <td>...</td>\n",
       "      <td>...</td>\n",
       "      <td>...</td>\n",
       "      <td>...</td>\n",
       "      <td>...</td>\n",
       "      <td>...</td>\n",
       "      <td>...</td>\n",
       "      <td>...</td>\n",
       "      <td>...</td>\n",
       "      <td>...</td>\n",
       "      <td>...</td>\n",
       "      <td>...</td>\n",
       "      <td>...</td>\n",
       "      <td>...</td>\n",
       "    </tr>\n",
       "    <tr>\n",
       "      <th>6430</th>\n",
       "      <td>713173.95</td>\n",
       "      <td>0</td>\n",
       "      <td>64.88</td>\n",
       "      <td>3.997</td>\n",
       "      <td>192.013558</td>\n",
       "      <td>8.684</td>\n",
       "      <td>-2.449294e-16</td>\n",
       "      <td>1.00000</td>\n",
       "      <td>-1.000000e+00</td>\n",
       "      <td>-1.836970e-16</td>\n",
       "      <td>-0.406737</td>\n",
       "      <td>0.913545</td>\n",
       "      <td>0</td>\n",
       "      <td>0</td>\n",
       "      <td>0</td>\n",
       "    </tr>\n",
       "    <tr>\n",
       "      <th>6431</th>\n",
       "      <td>733455.07</td>\n",
       "      <td>0</td>\n",
       "      <td>64.89</td>\n",
       "      <td>3.985</td>\n",
       "      <td>192.170412</td>\n",
       "      <td>8.667</td>\n",
       "      <td>-2.449294e-16</td>\n",
       "      <td>1.00000</td>\n",
       "      <td>5.000000e-01</td>\n",
       "      <td>-8.660254e-01</td>\n",
       "      <td>0.897805</td>\n",
       "      <td>-0.440394</td>\n",
       "      <td>1</td>\n",
       "      <td>0</td>\n",
       "      <td>0</td>\n",
       "    </tr>\n",
       "    <tr>\n",
       "      <th>6432</th>\n",
       "      <td>734464.36</td>\n",
       "      <td>0</td>\n",
       "      <td>54.47</td>\n",
       "      <td>4.000</td>\n",
       "      <td>192.327265</td>\n",
       "      <td>8.667</td>\n",
       "      <td>-2.449294e-16</td>\n",
       "      <td>1.00000</td>\n",
       "      <td>-2.449294e-16</td>\n",
       "      <td>1.000000e+00</td>\n",
       "      <td>0.897805</td>\n",
       "      <td>-0.440394</td>\n",
       "      <td>0</td>\n",
       "      <td>0</td>\n",
       "      <td>0</td>\n",
       "    </tr>\n",
       "    <tr>\n",
       "      <th>6433</th>\n",
       "      <td>718125.53</td>\n",
       "      <td>0</td>\n",
       "      <td>56.47</td>\n",
       "      <td>3.969</td>\n",
       "      <td>192.330854</td>\n",
       "      <td>8.667</td>\n",
       "      <td>-2.449294e-16</td>\n",
       "      <td>1.00000</td>\n",
       "      <td>-8.660254e-01</td>\n",
       "      <td>5.000000e-01</td>\n",
       "      <td>-0.651372</td>\n",
       "      <td>-0.758758</td>\n",
       "      <td>0</td>\n",
       "      <td>0</td>\n",
       "      <td>0</td>\n",
       "    </tr>\n",
       "    <tr>\n",
       "      <th>6434</th>\n",
       "      <td>760281.43</td>\n",
       "      <td>0</td>\n",
       "      <td>58.85</td>\n",
       "      <td>3.882</td>\n",
       "      <td>192.308899</td>\n",
       "      <td>8.667</td>\n",
       "      <td>-2.449294e-16</td>\n",
       "      <td>1.00000</td>\n",
       "      <td>-8.660254e-01</td>\n",
       "      <td>5.000000e-01</td>\n",
       "      <td>-0.848644</td>\n",
       "      <td>0.528964</td>\n",
       "      <td>0</td>\n",
       "      <td>0</td>\n",
       "      <td>0</td>\n",
       "    </tr>\n",
       "  </tbody>\n",
       "</table>\n",
       "<p>6435 rows × 15 columns</p>\n",
       "</div>"
      ],
      "text/plain": [
       "      Weekly_Sales  Holiday_Flag  Temperature  Fuel_Price         CPI  \\\n",
       "0       1643690.90             0        42.31       2.572  211.096358   \n",
       "1       1641957.44             1        38.51       2.548  211.242170   \n",
       "2       1611968.17             0        39.93       2.514  211.289143   \n",
       "3       1409727.59             0        46.63       2.561  211.319643   \n",
       "4       1554806.68             0        46.50       2.625  211.350143   \n",
       "...            ...           ...          ...         ...         ...   \n",
       "6430     713173.95             0        64.88       3.997  192.013558   \n",
       "6431     733455.07             0        64.89       3.985  192.170412   \n",
       "6432     734464.36             0        54.47       4.000  192.327265   \n",
       "6433     718125.53             0        56.47       3.969  192.330854   \n",
       "6434     760281.43             0        58.85       3.882  192.308899   \n",
       "\n",
       "      Unemployment      year_sin  year_cos     month_sin     month_cos  \\\n",
       "0            8.106 -6.245670e-03   0.99998  5.000000e-01 -8.660254e-01   \n",
       "1            8.106 -6.245670e-03   0.99998  8.660254e-01  5.000000e-01   \n",
       "2            8.106 -6.245670e-03   0.99998  8.660254e-01  5.000000e-01   \n",
       "3            8.106 -6.245670e-03   0.99998  8.660254e-01  5.000000e-01   \n",
       "4            8.106 -6.245670e-03   0.99998  5.000000e-01 -8.660254e-01   \n",
       "...            ...           ...       ...           ...           ...   \n",
       "6430         8.684 -2.449294e-16   1.00000 -1.000000e+00 -1.836970e-16   \n",
       "6431         8.667 -2.449294e-16   1.00000  5.000000e-01 -8.660254e-01   \n",
       "6432         8.667 -2.449294e-16   1.00000 -2.449294e-16  1.000000e+00   \n",
       "6433         8.667 -2.449294e-16   1.00000 -8.660254e-01  5.000000e-01   \n",
       "6434         8.667 -2.449294e-16   1.00000 -8.660254e-01  5.000000e-01   \n",
       "\n",
       "       day_sin   day_cos  Season_Spring  Season_Summer  Season_Winter  \n",
       "0     0.394356  0.918958              1              0              0  \n",
       "1     0.433884 -0.900969              0              0              0  \n",
       "2    -0.900969 -0.433884              0              0              1  \n",
       "3    -0.433884  0.900969              0              0              1  \n",
       "4     0.571268  0.820763              1              0              0  \n",
       "...        ...       ...            ...            ...            ...  \n",
       "6430 -0.406737  0.913545              0              0              0  \n",
       "6431  0.897805 -0.440394              1              0              0  \n",
       "6432  0.897805 -0.440394              0              0              0  \n",
       "6433 -0.651372 -0.758758              0              0              0  \n",
       "6434 -0.848644  0.528964              0              0              0  \n",
       "\n",
       "[6435 rows x 15 columns]"
      ]
     },
     "execution_count": 72,
     "metadata": {},
     "output_type": "execute_result"
    }
   ],
   "source": [
    "df_new"
   ]
  },
  {
   "attachments": {},
   "cell_type": "markdown",
   "metadata": {},
   "source": [
    "Create the **New X-Values**"
   ]
  },
  {
   "cell_type": "code",
   "execution_count": 73,
   "metadata": {},
   "outputs": [
    {
     "data": {
      "text/plain": [
       "array([[ 0.  , 42.31,  2.57, ...,  1.  ,  0.  ,  0.  ],\n",
       "       [ 1.  , 38.51,  2.55, ...,  0.  ,  0.  ,  0.  ],\n",
       "       [ 0.  , 39.93,  2.51, ...,  0.  ,  0.  ,  1.  ],\n",
       "       ...,\n",
       "       [ 0.  , 54.47,  4.  , ...,  0.  ,  0.  ,  0.  ],\n",
       "       [ 0.  , 56.47,  3.97, ...,  0.  ,  0.  ,  0.  ],\n",
       "       [ 0.  , 58.85,  3.88, ...,  0.  ,  0.  ,  0.  ]])"
      ]
     },
     "execution_count": 73,
     "metadata": {},
     "output_type": "execute_result"
    }
   ],
   "source": [
    "X_new = df_new.iloc[:, 1:].values\n",
    "X_new"
   ]
  },
  {
   "attachments": {},
   "cell_type": "markdown",
   "metadata": {},
   "source": [
    "Create the **New y-Values**"
   ]
  },
  {
   "cell_type": "code",
   "execution_count": 74,
   "metadata": {},
   "outputs": [
    {
     "data": {
      "text/plain": [
       "array([1643690.9 , 1641957.44, 1611968.17, ...,  734464.36,  718125.53,\n",
       "        760281.43])"
      ]
     },
     "execution_count": 74,
     "metadata": {},
     "output_type": "execute_result"
    }
   ],
   "source": [
    "y_new = df_new.iloc[:, 0].values\n",
    "y_new"
   ]
  },
  {
   "cell_type": "code",
   "execution_count": 75,
   "metadata": {},
   "outputs": [
    {
     "data": {
      "text/plain": [
       "array([[1643690.9 ],\n",
       "       [1641957.44],\n",
       "       [1611968.17],\n",
       "       ...,\n",
       "       [ 734464.36],\n",
       "       [ 718125.53],\n",
       "       [ 760281.43]])"
      ]
     },
     "execution_count": 75,
     "metadata": {},
     "output_type": "execute_result"
    }
   ],
   "source": [
    "y_new = y_new.reshape(len(y_new), 1)\n",
    "y_new"
   ]
  },
  {
   "cell_type": "code",
   "execution_count": 76,
   "metadata": {},
   "outputs": [],
   "source": [
    "X_train, X_test, y_train, y_test = train_test_split(X_new, y_new, test_size=0.2, random_state=1)\n"
   ]
  },
  {
   "cell_type": "code",
   "execution_count": 77,
   "metadata": {},
   "outputs": [],
   "source": [
    "sc_X = StandardScaler()\n",
    "X_train = sc_X.fit_transform(X_train)\n",
    "X_test= sc_X.transform(X_test)"
   ]
  },
  {
   "cell_type": "code",
   "execution_count": 78,
   "metadata": {},
   "outputs": [
    {
     "data": {
      "text/plain": [
       "LinearRegression()"
      ]
     },
     "execution_count": 78,
     "metadata": {},
     "output_type": "execute_result"
    }
   ],
   "source": [
    "poly_reg = PolynomialFeatures(degree=4)\n",
    "X_poly = poly_reg.fit_transform(X_train)\n",
    "regressor = LinearRegression()\n",
    "regressor.fit(X_poly, y_train)"
   ]
  },
  {
   "cell_type": "code",
   "execution_count": 83,
   "metadata": {},
   "outputs": [],
   "source": [
    "y_pred = regressor.predict(poly_reg.transform(X_test))"
   ]
  },
  {
   "cell_type": "code",
   "execution_count": 84,
   "metadata": {},
   "outputs": [
    {
     "name": "stdout",
     "output_type": "stream",
     "text": [
      "Mean Absolute Error (MAE): 518767.88031857036\n",
      "Mean Squared Error (MSE): 420690238833.4288\n",
      "Root Mean Squared Error (RMSE): 648606.3820480251\n",
      "The r-squared score (R^2): -0.2734146253581575\n",
      "The Mean Percent Error (MPE): 72.31253932994359\n"
     ]
    }
   ],
   "source": [
    "# Assuming y_test contains the actual values and y_pred contains the predicted values\n",
    "mae = mean_absolute_error(y_test, y_pred)\n",
    "mse = mean_squared_error(y_test, y_pred)\n",
    "rmse = mean_squared_error(y_test, y_pred, squared=False)  # squared=False returns RMSE\n",
    "r2 = r2_score(y_test, y_pred)\n",
    "mpe = mean_absolute_percentage_error(y_test, y_pred) * 100\n",
    "\n",
    "print(\"Mean Absolute Error (MAE):\", mae)\n",
    "print(\"Mean Squared Error (MSE):\", mse)\n",
    "print(\"Root Mean Squared Error (RMSE):\", rmse)\n",
    "print(\"The r-squared score (R^2):\", r2)\n",
    "print(\"The Mean Percent Error (MPE):\", mpe)"
   ]
  },
  {
   "attachments": {},
   "cell_type": "markdown",
   "metadata": {},
   "source": [
    "## Polynomial Regression with new DF (Degree = 5)"
   ]
  },
  {
   "cell_type": "code",
   "execution_count": 85,
   "metadata": {},
   "outputs": [
    {
     "data": {
      "text/plain": [
       "array([[ 0.  , 42.31,  2.57, ...,  1.  ,  0.  ,  0.  ],\n",
       "       [ 1.  , 38.51,  2.55, ...,  0.  ,  0.  ,  0.  ],\n",
       "       [ 0.  , 39.93,  2.51, ...,  0.  ,  0.  ,  1.  ],\n",
       "       ...,\n",
       "       [ 0.  , 54.47,  4.  , ...,  0.  ,  0.  ,  0.  ],\n",
       "       [ 0.  , 56.47,  3.97, ...,  0.  ,  0.  ,  0.  ],\n",
       "       [ 0.  , 58.85,  3.88, ...,  0.  ,  0.  ,  0.  ]])"
      ]
     },
     "execution_count": 85,
     "metadata": {},
     "output_type": "execute_result"
    }
   ],
   "source": [
    "X_new = df_new.iloc[:, 1:].values\n",
    "X_new"
   ]
  },
  {
   "cell_type": "code",
   "execution_count": 86,
   "metadata": {},
   "outputs": [
    {
     "data": {
      "text/plain": [
       "array([1643690.9 , 1641957.44, 1611968.17, ...,  734464.36,  718125.53,\n",
       "        760281.43])"
      ]
     },
     "execution_count": 86,
     "metadata": {},
     "output_type": "execute_result"
    }
   ],
   "source": [
    "y_new = df_new.iloc[:, 0].values\n",
    "y_new"
   ]
  },
  {
   "cell_type": "code",
   "execution_count": 87,
   "metadata": {},
   "outputs": [
    {
     "data": {
      "text/plain": [
       "array([[1643690.9 ],\n",
       "       [1641957.44],\n",
       "       [1611968.17],\n",
       "       ...,\n",
       "       [ 734464.36],\n",
       "       [ 718125.53],\n",
       "       [ 760281.43]])"
      ]
     },
     "execution_count": 87,
     "metadata": {},
     "output_type": "execute_result"
    }
   ],
   "source": [
    "y_new = y_new.reshape(len(y_new), 1)\n",
    "y_new"
   ]
  },
  {
   "cell_type": "code",
   "execution_count": 88,
   "metadata": {},
   "outputs": [],
   "source": [
    "X_train, X_test, y_train, y_test = train_test_split(X_new, y_new, test_size=0.2, random_state=1)\n",
    "sc_X = StandardScaler()\n",
    "\n",
    "X_train = sc_X.fit_transform(X_train)\n",
    "X_test= sc_X.transform(X_test)\n",
    "\n",
    "poly_reg = PolynomialFeatures(degree=5)\n",
    "X_poly = poly_reg.fit_transform(X_train)\n",
    "\n",
    "regressor = LinearRegression()\n",
    "regressor.fit(X_poly, y_train)\n",
    "\n",
    "y_pred = regressor.predict(poly_reg.transform(X_test))\n"
   ]
  },
  {
   "cell_type": "code",
   "execution_count": 89,
   "metadata": {},
   "outputs": [
    {
     "name": "stdout",
     "output_type": "stream",
     "text": [
      "Mean Absolute Error (MAE): 210574933.1796839\n",
      "Mean Squared Error (MSE): 4.107206078619035e+18\n",
      "Root Mean Squared Error (RMSE): 2026624306.2341464\n",
      "The r-squared score (R^2): -12432368.014257735\n",
      "The Mean Percent Error (MPE): 28005.153083665056\n"
     ]
    }
   ],
   "source": [
    "# Assuming y_test contains the actual values and y_pred contains the predicted values\n",
    "mae = mean_absolute_error(y_test, y_pred)\n",
    "mse = mean_squared_error(y_test, y_pred)\n",
    "rmse = mean_squared_error(y_test, y_pred, squared=False)  # squared=False returns RMSE\n",
    "r2 = r2_score(y_test, y_pred)\n",
    "mpe = mean_absolute_percentage_error(y_test, y_pred) * 100\n",
    "\n",
    "print(\"Mean Absolute Error (MAE):\", mae)\n",
    "print(\"Mean Squared Error (MSE):\", mse)\n",
    "print(\"Root Mean Squared Error (RMSE):\", rmse)\n",
    "print(\"The r-squared score (R^2):\", r2)\n",
    "print(\"The Mean Percent Error (MPE):\", mpe)"
   ]
  },
  {
   "attachments": {},
   "cell_type": "markdown",
   "metadata": {},
   "source": [
    "## Polynomial Regression with new DF (Degree = 6)"
   ]
  },
  {
   "cell_type": "code",
   "execution_count": 41,
   "metadata": {},
   "outputs": [
    {
     "data": {
      "text/plain": [
       "array([[ 0.  , 42.31,  2.57, ...,  1.  ,  0.  ,  0.  ],\n",
       "       [ 1.  , 38.51,  2.55, ...,  0.  ,  0.  ,  0.  ],\n",
       "       [ 0.  , 39.93,  2.51, ...,  0.  ,  0.  ,  1.  ],\n",
       "       ...,\n",
       "       [ 0.  , 54.47,  4.  , ...,  0.  ,  0.  ,  0.  ],\n",
       "       [ 0.  , 56.47,  3.97, ...,  0.  ,  0.  ,  0.  ],\n",
       "       [ 0.  , 58.85,  3.88, ...,  0.  ,  0.  ,  0.  ]])"
      ]
     },
     "execution_count": 41,
     "metadata": {},
     "output_type": "execute_result"
    }
   ],
   "source": [
    "X_new"
   ]
  },
  {
   "cell_type": "code",
   "execution_count": 42,
   "metadata": {},
   "outputs": [
    {
     "data": {
      "text/plain": [
       "array([[1643690.9 ],\n",
       "       [1641957.44],\n",
       "       [1611968.17],\n",
       "       ...,\n",
       "       [ 734464.36],\n",
       "       [ 718125.53],\n",
       "       [ 760281.43]])"
      ]
     },
     "execution_count": 42,
     "metadata": {},
     "output_type": "execute_result"
    }
   ],
   "source": [
    "y_new"
   ]
  },
  {
   "cell_type": "code",
   "execution_count": 43,
   "metadata": {},
   "outputs": [
    {
     "data": {
      "text/plain": [
       "array([[1643690.9 ],\n",
       "       [1641957.44],\n",
       "       [1611968.17],\n",
       "       ...,\n",
       "       [ 734464.36],\n",
       "       [ 718125.53],\n",
       "       [ 760281.43]])"
      ]
     },
     "execution_count": 43,
     "metadata": {},
     "output_type": "execute_result"
    }
   ],
   "source": [
    "y_new = y_new.reshape(len(y_new), 1)\n",
    "y_new"
   ]
  },
  {
   "cell_type": "code",
   "execution_count": 54,
   "metadata": {},
   "outputs": [],
   "source": [
    "X_train, X_test, y_train, y_test = train_test_split(X_new, y_new, test_size=0.2, random_state=1)\n",
    "\n",
    "sc_X = StandardScaler()\n",
    "\n",
    "X_train = sc_X.fit_transform(X_train)\n",
    "X_test = sc_X.transform(X_test)  # Apply the same scaling transformation to test data\n",
    "\n",
    "poly_reg = PolynomialFeatures(degree=6)\n",
    "X_poly_train = poly_reg.fit_transform(X_train)\n",
    "\n",
    "regressor = LinearRegression()\n",
    "regressor.fit(X_poly_train, y_train)\n",
    "\n",
    "X_poly_test = poly_reg.transform(X_test)  # Apply the same transformation to test data\n",
    "y_pred = regressor.predict(X_poly_test)\n",
    "\n"
   ]
  },
  {
   "cell_type": "code",
   "execution_count": 55,
   "metadata": {},
   "outputs": [
    {
     "name": "stdout",
     "output_type": "stream",
     "text": [
      "Mean Absolute Error (MAE): 722135706.7603116\n",
      "Mean Squared Error (MSE): 1.9353911508419895e+19\n",
      "Root Mean Squared Error (RMSE): 4399308071.551695\n",
      "The r-squared score (R^2): -58583611.591182075\n",
      "The Mean Percent Error (MPE): 98850.94908413697\n"
     ]
    }
   ],
   "source": [
    "# Assuming y_test contains the actual values and y_pred contains the predicted values\n",
    "mae = mean_absolute_error(y_test, y_pred)\n",
    "mse = mean_squared_error(y_test, y_pred)\n",
    "rmse = mean_squared_error(y_test, y_pred, squared=False)  # squared=False returns RMSE\n",
    "r2 = r2_score(y_test, y_pred)\n",
    "mpe = mean_absolute_percentage_error(y_test, y_pred) * 100\n",
    "\n",
    "print(\"Mean Absolute Error (MAE):\", mae)\n",
    "print(\"Mean Squared Error (MSE):\", mse)\n",
    "print(\"Root Mean Squared Error (RMSE):\", rmse)\n",
    "print(\"The r-squared score (R^2):\", r2)\n",
    "print(\"The Mean Percent Error (MPE):\", mpe)"
   ]
  },
  {
   "attachments": {},
   "cell_type": "markdown",
   "metadata": {},
   "source": [
    "## Support Vector Machine "
   ]
  },
  {
   "cell_type": "code",
   "execution_count": 91,
   "metadata": {},
   "outputs": [
    {
     "data": {
      "text/plain": [
       "array([[ 0.  , 42.31,  2.57, ...,  1.  ,  0.  ,  0.  ],\n",
       "       [ 1.  , 38.51,  2.55, ...,  0.  ,  0.  ,  0.  ],\n",
       "       [ 0.  , 39.93,  2.51, ...,  0.  ,  0.  ,  1.  ],\n",
       "       ...,\n",
       "       [ 0.  , 54.47,  4.  , ...,  0.  ,  0.  ,  0.  ],\n",
       "       [ 0.  , 56.47,  3.97, ...,  0.  ,  0.  ,  0.  ],\n",
       "       [ 0.  , 58.85,  3.88, ...,  0.  ,  0.  ,  0.  ]])"
      ]
     },
     "execution_count": 91,
     "metadata": {},
     "output_type": "execute_result"
    }
   ],
   "source": [
    "X"
   ]
  },
  {
   "cell_type": "code",
   "execution_count": 93,
   "metadata": {},
   "outputs": [
    {
     "data": {
      "text/plain": [
       "array([[1643690.9 ],\n",
       "       [1641957.44],\n",
       "       [1611968.17],\n",
       "       ...,\n",
       "       [ 734464.36],\n",
       "       [ 718125.53],\n",
       "       [ 760281.43]])"
      ]
     },
     "execution_count": 93,
     "metadata": {},
     "output_type": "execute_result"
    }
   ],
   "source": [
    "y = y.reshape(len(y), 1)\n",
    "y"
   ]
  },
  {
   "attachments": {},
   "cell_type": "markdown",
   "metadata": {},
   "source": [
    "Splitting the data into **Training** and **Test** sets"
   ]
  },
  {
   "cell_type": "code",
   "execution_count": 154,
   "metadata": {},
   "outputs": [],
   "source": [
    "X_train, X_test, y_train, y_test = train_test_split(X, y, test_size = 0.2, random_state=0)"
   ]
  },
  {
   "attachments": {},
   "cell_type": "markdown",
   "metadata": {},
   "source": [
    "**Scaling** the Data"
   ]
  },
  {
   "cell_type": "code",
   "execution_count": 155,
   "metadata": {},
   "outputs": [],
   "source": [
    "scaler = StandardScaler()\n",
    "\n",
    "X_train = scaler.fit_transform(X_train)\n",
    "X_test = scaler.transform(X_test)"
   ]
  },
  {
   "attachments": {},
   "cell_type": "markdown",
   "metadata": {},
   "source": [
    "Conducting **PCA Analysis** "
   ]
  },
  {
   "cell_type": "code",
   "execution_count": 159,
   "metadata": {},
   "outputs": [],
   "source": [
    "# Create PCA object with desired number of components or explained variance ratio\n",
    "pca = PCA(n_components=0.95)  # Retain 95% of the variance\n",
    "\n",
    "# Apply PCA to the scaled training data\n",
    "X_train = pca.fit_transform(X_train)\n",
    "\n",
    "# Transform the test data using the same PCA object\n",
    "X_test = pca.transform(X_test)\n"
   ]
  },
  {
   "cell_type": "code",
   "execution_count": 181,
   "metadata": {},
   "outputs": [
    {
     "data": {
      "text/plain": [
       "SVR(C=182, kernel='poly')"
      ]
     },
     "execution_count": 181,
     "metadata": {},
     "output_type": "execute_result"
    }
   ],
   "source": [
    "regressor = SVR(kernel='poly', C=182)\n",
    "regressor.fit(X_train, y_train)"
   ]
  },
  {
   "attachments": {},
   "cell_type": "markdown",
   "metadata": {},
   "source": [
    "Getting the **Predicted** Sales Values"
   ]
  },
  {
   "cell_type": "code",
   "execution_count": 182,
   "metadata": {},
   "outputs": [],
   "source": [
    "y_pred = regressor.predict(X_test)\n",
    "\n",
    "# Evaluate the model performance using appropriate metrics or techniques\n"
   ]
  },
  {
   "attachments": {},
   "cell_type": "markdown",
   "metadata": {},
   "source": [
    "**Calculating Accuracies**"
   ]
  },
  {
   "cell_type": "code",
   "execution_count": 183,
   "metadata": {},
   "outputs": [
    {
     "name": "stdout",
     "output_type": "stream",
     "text": [
      "Mean Absolute Error (MAE): 449381.2924838185\n",
      "Mean Squared Error (MSE): 313525776091.80927\n",
      "Root Mean Squared Error (RMSE): 559933.7247316054\n",
      "The r-squared score (R^2): 0.008025822046951347\n",
      "The Mean Percent Error (MPE): 58.400793968718176\n"
     ]
    }
   ],
   "source": [
    "# Assuming y_test contains the actual values and y_pred contains the predicted values\n",
    "mae = mean_absolute_error(y_test, y_pred)\n",
    "mse = mean_squared_error(y_test, y_pred)\n",
    "rmse = mean_squared_error(y_test, y_pred, squared=False)  # squared=False returns RMSE\n",
    "r2 = r2_score(y_test, y_pred)\n",
    "mpe = mean_absolute_percentage_error(y_test, y_pred) * 100\n",
    "\n",
    "print(\"Mean Absolute Error (MAE):\", mae)\n",
    "print(\"Mean Squared Error (MSE):\", mse)\n",
    "print(\"Root Mean Squared Error (RMSE):\", rmse)\n",
    "print(\"The r-squared score (R^2):\", r2)\n",
    "print(\"The Mean Percent Error (MPE):\", mpe)"
   ]
  },
  {
   "attachments": {},
   "cell_type": "markdown",
   "metadata": {},
   "source": [
    "**Cross Validating** the **C** Hyperparameter to find the optimal value. "
   ]
  },
  {
   "cell_type": "code",
   "execution_count": 180,
   "metadata": {},
   "outputs": [
    {
     "name": "stdout",
     "output_type": "stream",
     "text": [
      "C = 182   Mean Score = -0.8752646445042088\n",
      "C = 181   Mean Score = -0.8753125887377998\n",
      "C = 183   Mean Score = -0.8753313812632117\n",
      "C = 180   Mean Score = -0.8753361349919314\n",
      "C = 184   Mean Score = -0.8753914656460637\n",
      "C = 179   Mean Score = -0.875461222161352\n",
      "C = 178   Mean Score = -0.8755365740582394\n",
      "C = 185   Mean Score = -0.8756462392558976\n",
      "C = 187   Mean Score = -0.8756606476779157\n",
      "C = 186   Mean Score = -0.8756727789487141\n",
      "C = 177   Mean Score = -0.8756798841292288\n",
      "C = 148   Mean Score = -0.8756848044498454\n",
      "C = 195   Mean Score = -0.8757456765657281\n",
      "C = 196   Mean Score = -0.875749232195993\n",
      "C = 176   Mean Score = -0.8757818730779101\n",
      "C = 197   Mean Score = -0.8757891418077846\n",
      "C = 149   Mean Score = -0.8757901576390673\n",
      "C = 173   Mean Score = -0.8758030235465087\n",
      "C = 164   Mean Score = -0.8758199120875886\n",
      "C = 194   Mean Score = -0.875832398201464\n",
      "C = 147   Mean Score = -0.8758367198850167\n",
      "C = 175   Mean Score = -0.8758555033684814\n",
      "C = 198   Mean Score = -0.8758589286874626\n",
      "C = 188   Mean Score = -0.8758645004149405\n",
      "C = 199   Mean Score = -0.8758650346185878\n",
      "C = 174   Mean Score = -0.8758659022754005\n",
      "C = 146   Mean Score = -0.8758790301299081\n",
      "C = 165   Mean Score = -0.8758915685210568\n",
      "C = 193   Mean Score = -0.8758946023757389\n",
      "C = 192   Mean Score = -0.8758976835322128\n",
      "C = 191   Mean Score = -0.8759356088461542\n",
      "C = 166   Mean Score = -0.8759356981630098\n",
      "C = 145   Mean Score = -0.8759649928891637\n",
      "C = 163   Mean Score = -0.8759859884936891\n",
      "C = 144   Mean Score = -0.8759923555934548\n",
      "C = 190   Mean Score = -0.876002333627189\n",
      "C = 167   Mean Score = -0.8760135545238422\n",
      "C = 189   Mean Score = -0.8760202053697265\n",
      "C = 168   Mean Score = -0.8760336247966046\n",
      "C = 172   Mean Score = -0.8760362426355213\n",
      "C = 162   Mean Score = -0.8760803666526156\n",
      "C = 143   Mean Score = -0.8760839951844911\n",
      "C = 150   Mean Score = -0.8760844041858209\n",
      "C = 138   Mean Score = -0.8761331339779781\n",
      "C = 142   Mean Score = -0.8761371661879916\n",
      "C = 137   Mean Score = -0.8761457063029994\n",
      "C = 133   Mean Score = -0.8761503861444164\n",
      "C = 169   Mean Score = -0.8761552328423737\n",
      "C = 171   Mean Score = -0.8761627292477632\n",
      "C = 161   Mean Score = -0.8761713163410988\n",
      "C = 140   Mean Score = -0.8761802270566906\n",
      "C = 136   Mean Score = -0.8761887685658751\n",
      "C = 141   Mean Score = -0.8761974143212851\n",
      "C = 151   Mean Score = -0.8762057521399509\n",
      "C = 139   Mean Score = -0.8762129125389211\n",
      "C = 170   Mean Score = -0.876216048890088\n",
      "C = 134   Mean Score = -0.8762220170895461\n",
      "C = 135   Mean Score = -0.876232405624588\n",
      "C = 132   Mean Score = -0.8762678261436795\n",
      "C = 160   Mean Score = -0.876286542867961\n",
      "C = 158   Mean Score = -0.876333738308125\n",
      "C = 157   Mean Score = -0.8763479487341709\n",
      "C = 153   Mean Score = -0.8763481790733532\n",
      "C = 159   Mean Score = -0.8763539089015125\n",
      "C = 152   Mean Score = -0.8763544646030624\n",
      "C = 154   Mean Score = -0.8763994410456102\n",
      "C = 155   Mean Score = -0.8764196567396015\n",
      "C = 156   Mean Score = -0.8764228048540168\n",
      "C = 131   Mean Score = -0.8764295110305432\n",
      "C = 130   Mean Score = -0.8767368237813412\n",
      "C = 129   Mean Score = -0.8767751556769776\n",
      "C = 128   Mean Score = -0.8768310762908595\n",
      "C = 127   Mean Score = -0.8770047969597832\n",
      "C = 126   Mean Score = -0.8771010294679269\n",
      "C = 121   Mean Score = -0.8771679571951977\n",
      "C = 125   Mean Score = -0.877208483536608\n",
      "C = 122   Mean Score = -0.8772473469241281\n",
      "C = 120   Mean Score = -0.8772501354904289\n",
      "C = 124   Mean Score = -0.8772530858993676\n",
      "C = 123   Mean Score = -0.877290643892736\n",
      "C = 119   Mean Score = -0.8773008861015836\n",
      "C = 118   Mean Score = -0.8773031150279453\n",
      "C = 114   Mean Score = -0.8773680739240892\n",
      "C = 108   Mean Score = -0.8773848909596348\n",
      "C = 106   Mean Score = -0.8773970101282297\n",
      "C = 116   Mean Score = -0.8773989686199671\n",
      "C = 115   Mean Score = -0.8774002593399085\n",
      "C = 117   Mean Score = -0.8774057638650992\n",
      "C = 105   Mean Score = -0.8774173127401641\n",
      "C = 107   Mean Score = -0.877450816129947\n",
      "C = 113   Mean Score = -0.8774528966979763\n",
      "C = 103   Mean Score = -0.8774747076870736\n",
      "C = 104   Mean Score = -0.8774866302473242\n",
      "C = 109   Mean Score = -0.8774938545656958\n",
      "C = 102   Mean Score = -0.8775612250127802\n",
      "C = 112   Mean Score = -0.8775686963898717\n",
      "C = 110   Mean Score = -0.8776359864787611\n",
      "C = 111   Mean Score = -0.8776738113729805\n",
      "C = 101   Mean Score = -0.8776901561522433\n",
      "C = 100   Mean Score = -0.877829207652239\n"
     ]
    }
   ],
   "source": [
    "# Define a list of C values to try\n",
    "c_values = np.arange(100,200,1)\n",
    "#180\n",
    "\n",
    "# Create an empty list to store the cross-validation scores\n",
    "cv_scores = []\n",
    "\n",
    "# Iterate over each C value\n",
    "for c in c_values:\n",
    "    # Initialize the SVR regressor with the current C value\n",
    "    regressor = SVR(kernel='poly', C=c)\n",
    "    \n",
    "    # Perform cross-validation and compute the mean score\n",
    "    scores = cross_val_score(regressor, X, y, cv=15)  # You can adjust the number of cross-validation folds (cv) as needed\n",
    "    mean_score = scores.mean()\n",
    "    \n",
    "    # Append the mean score to the cv_scores list\n",
    "    cv_scores.append(mean_score)\n",
    "\n",
    "# Print the C values and their corresponding cross-validation scores\n",
    "for c, score in sorted(zip(c_values, cv_scores), key=lambda x: x[1], reverse=True):\n",
    "    print(\"C =\", c, \"  Mean Score =\", score)\n",
    "\n"
   ]
  },
  {
   "attachments": {},
   "cell_type": "markdown",
   "metadata": {},
   "source": [
    "## Decision Tree"
   ]
  },
  {
   "cell_type": "code",
   "execution_count": 185,
   "metadata": {},
   "outputs": [
    {
     "data": {
      "text/plain": [
       "array([[ 0.  , 42.31,  2.57, ...,  1.  ,  0.  ,  0.  ],\n",
       "       [ 1.  , 38.51,  2.55, ...,  0.  ,  0.  ,  0.  ],\n",
       "       [ 0.  , 39.93,  2.51, ...,  0.  ,  0.  ,  1.  ],\n",
       "       ...,\n",
       "       [ 0.  , 54.47,  4.  , ...,  0.  ,  0.  ,  0.  ],\n",
       "       [ 0.  , 56.47,  3.97, ...,  0.  ,  0.  ,  0.  ],\n",
       "       [ 0.  , 58.85,  3.88, ...,  0.  ,  0.  ,  0.  ]])"
      ]
     },
     "execution_count": 185,
     "metadata": {},
     "output_type": "execute_result"
    }
   ],
   "source": [
    "X"
   ]
  },
  {
   "cell_type": "code",
   "execution_count": 187,
   "metadata": {},
   "outputs": [
    {
     "data": {
      "text/plain": [
       "array([[1643690.9 ],\n",
       "       [1641957.44],\n",
       "       [1611968.17],\n",
       "       ...,\n",
       "       [ 734464.36],\n",
       "       [ 718125.53],\n",
       "       [ 760281.43]])"
      ]
     },
     "execution_count": 187,
     "metadata": {},
     "output_type": "execute_result"
    }
   ],
   "source": [
    "y\n",
    "# if the y column shape looks more horizontal than vertical, use the code below:\n",
    "# y = y.reshape(len(y), 1)\n",
    "# y"
   ]
  },
  {
   "attachments": {},
   "cell_type": "markdown",
   "metadata": {},
   "source": [
    "Splitting the dataset into a **Training** and **Test** Set"
   ]
  },
  {
   "cell_type": "code",
   "execution_count": 188,
   "metadata": {},
   "outputs": [],
   "source": [
    "X_train, X_test, y_train, y_test = train_test_split(X, y, test_size=0.2, random_state=1)"
   ]
  },
  {
   "attachments": {},
   "cell_type": "markdown",
   "metadata": {},
   "source": [
    "**Training** the Model "
   ]
  },
  {
   "cell_type": "code",
   "execution_count": 190,
   "metadata": {},
   "outputs": [
    {
     "data": {
      "text/plain": [
       "DecisionTreeRegressor(random_state=1)"
      ]
     },
     "execution_count": 190,
     "metadata": {},
     "output_type": "execute_result"
    }
   ],
   "source": [
    "regressor = DecisionTreeRegressor(random_state=1)\n",
    "regressor.fit(X_train, y_train)"
   ]
  },
  {
   "attachments": {},
   "cell_type": "markdown",
   "metadata": {},
   "source": [
    "**Predicting** Results"
   ]
  },
  {
   "cell_type": "code",
   "execution_count": 191,
   "metadata": {},
   "outputs": [],
   "source": [
    "y_pred = regressor.predict(X_test)"
   ]
  },
  {
   "attachments": {},
   "cell_type": "markdown",
   "metadata": {},
   "source": [
    "**Calculating** Accuracy Measures"
   ]
  },
  {
   "cell_type": "code",
   "execution_count": 192,
   "metadata": {},
   "outputs": [
    {
     "name": "stdout",
     "output_type": "stream",
     "text": [
      "Mean Absolute Error (MAE): 81600.31427350428\n",
      "Mean Squared Error (MSE): 29159237064.1139\n",
      "Root Mean Squared Error (RMSE): 170760.75973160198\n",
      "The r-squared score (R^2): 0.911736010218125\n",
      "The Mean Percent Error (MPE): 7.0629711461135045\n"
     ]
    }
   ],
   "source": [
    "# Assuming y_test contains the actual values and y_pred contains the predicted values\n",
    "mae = mean_absolute_error(y_test, y_pred)\n",
    "mse = mean_squared_error(y_test, y_pred)\n",
    "rmse = mean_squared_error(y_test, y_pred, squared=False)  # squared=False returns RMSE\n",
    "r2 = r2_score(y_test, y_pred)\n",
    "mpe = mean_absolute_percentage_error(y_test, y_pred) * 100\n",
    "\n",
    "print(\"Mean Absolute Error (MAE):\", mae)\n",
    "print(\"Mean Squared Error (MSE):\", mse)\n",
    "print(\"Root Mean Squared Error (RMSE):\", rmse)\n",
    "print(\"The r-squared score (R^2):\", r2)\n",
    "print(\"The Mean Percent Error (MPE):\", mpe)"
   ]
  },
  {
   "attachments": {},
   "cell_type": "markdown",
   "metadata": {},
   "source": [
    "## Random Forest"
   ]
  },
  {
   "cell_type": "code",
   "execution_count": 193,
   "metadata": {},
   "outputs": [
    {
     "data": {
      "text/plain": [
       "array([[ 0.  , 42.31,  2.57, ...,  1.  ,  0.  ,  0.  ],\n",
       "       [ 1.  , 38.51,  2.55, ...,  0.  ,  0.  ,  0.  ],\n",
       "       [ 0.  , 39.93,  2.51, ...,  0.  ,  0.  ,  1.  ],\n",
       "       ...,\n",
       "       [ 0.  , 54.47,  4.  , ...,  0.  ,  0.  ,  0.  ],\n",
       "       [ 0.  , 56.47,  3.97, ...,  0.  ,  0.  ,  0.  ],\n",
       "       [ 0.  , 58.85,  3.88, ...,  0.  ,  0.  ,  0.  ]])"
      ]
     },
     "execution_count": 193,
     "metadata": {},
     "output_type": "execute_result"
    }
   ],
   "source": [
    "X"
   ]
  },
  {
   "cell_type": "code",
   "execution_count": 195,
   "metadata": {},
   "outputs": [
    {
     "data": {
      "text/plain": [
       "array([[1643690.9 ],\n",
       "       [1641957.44],\n",
       "       [1611968.17],\n",
       "       ...,\n",
       "       [ 734464.36],\n",
       "       [ 718125.53],\n",
       "       [ 760281.43]])"
      ]
     },
     "execution_count": 195,
     "metadata": {},
     "output_type": "execute_result"
    }
   ],
   "source": [
    "y\n",
    "# if the y column shape looks more horizontal than vertical, use the code below:\n",
    "# y = y.reshape(len(y), 1)\n",
    "# y"
   ]
  },
  {
   "attachments": {},
   "cell_type": "markdown",
   "metadata": {},
   "source": [
    "Splitting the dataset into a **Training** and **Test** Set"
   ]
  },
  {
   "cell_type": "code",
   "execution_count": 196,
   "metadata": {},
   "outputs": [],
   "source": [
    "X_train, X_test, y_train, y_test = train_test_split(X, y, test_size=0.2, random_state=1)"
   ]
  },
  {
   "attachments": {},
   "cell_type": "markdown",
   "metadata": {},
   "source": [
    "**Training** the Model"
   ]
  },
  {
   "cell_type": "code",
   "execution_count": 199,
   "metadata": {},
   "outputs": [
    {
     "data": {
      "text/plain": [
       "RandomForestRegressor(n_estimators=10, random_state=1)"
      ]
     },
     "execution_count": 199,
     "metadata": {},
     "output_type": "execute_result"
    }
   ],
   "source": [
    "regressor = RandomForestRegressor(n_estimators=10, random_state=1)\n",
    "regressor.fit(X_train, y_train)"
   ]
  },
  {
   "attachments": {},
   "cell_type": "markdown",
   "metadata": {},
   "source": [
    "Making **Predictions** based on our **model**"
   ]
  },
  {
   "cell_type": "code",
   "execution_count": 200,
   "metadata": {},
   "outputs": [],
   "source": [
    "y_pred = regressor.predict(X_test)"
   ]
  },
  {
   "attachments": {},
   "cell_type": "markdown",
   "metadata": {},
   "source": [
    "Calculating **Accuracies** based on **y_pred**"
   ]
  },
  {
   "cell_type": "code",
   "execution_count": 201,
   "metadata": {},
   "outputs": [
    {
     "name": "stdout",
     "output_type": "stream",
     "text": [
      "Mean Absolute Error (MAE): 66086.93394327896\n",
      "Mean Squared Error (MSE): 19130331246.069675\n",
      "Root Mean Squared Error (RMSE): 138312.44067714832\n",
      "The r-squared score (R^2): 0.9420931570358188\n",
      "The Mean Percent Error (MPE): 5.677558722964053\n"
     ]
    }
   ],
   "source": [
    "# Assuming y_test contains the actual values and y_pred contains the predicted values\n",
    "mae = mean_absolute_error(y_test, y_pred)\n",
    "mse = mean_squared_error(y_test, y_pred)\n",
    "rmse = mean_squared_error(y_test, y_pred, squared=False)  # squared=False returns RMSE\n",
    "r2 = r2_score(y_test, y_pred)\n",
    "mpe = mean_absolute_percentage_error(y_test, y_pred) * 100\n",
    "\n",
    "print(\"Mean Absolute Error (MAE):\", mae)\n",
    "print(\"Mean Squared Error (MSE):\", mse)\n",
    "print(\"Root Mean Squared Error (RMSE):\", rmse)\n",
    "print(\"The r-squared score (R^2):\", r2)\n",
    "print(\"The Mean Percent Error (MPE):\", mpe)"
   ]
  },
  {
   "attachments": {},
   "cell_type": "markdown",
   "metadata": {},
   "source": [
    "## K-Nearest Neighbors Regression"
   ]
  },
  {
   "cell_type": "code",
   "execution_count": 3,
   "metadata": {},
   "outputs": [
    {
     "ename": "NameError",
     "evalue": "name 'X' is not defined",
     "output_type": "error",
     "traceback": [
      "\u001b[1;31m---------------------------------------------------------------------------\u001b[0m",
      "\u001b[1;31mNameError\u001b[0m                                 Traceback (most recent call last)",
      "\u001b[1;32m~\\AppData\\Local\\Temp\\ipykernel_16060\\3777217377.py\u001b[0m in \u001b[0;36m<module>\u001b[1;34m\u001b[0m\n\u001b[1;32m----> 1\u001b[1;33m \u001b[0mX\u001b[0m\u001b[1;33m\u001b[0m\u001b[1;33m\u001b[0m\u001b[0m\n\u001b[0m",
      "\u001b[1;31mNameError\u001b[0m: name 'X' is not defined"
     ]
    }
   ],
   "source": [
    "X"
   ]
  },
  {
   "cell_type": "code",
   "execution_count": 228,
   "metadata": {},
   "outputs": [
    {
     "data": {
      "text/plain": [
       "array([[1643690.9 ],\n",
       "       [1641957.44],\n",
       "       [1611968.17],\n",
       "       ...,\n",
       "       [ 734464.36],\n",
       "       [ 718125.53],\n",
       "       [ 760281.43]])"
      ]
     },
     "execution_count": 228,
     "metadata": {},
     "output_type": "execute_result"
    }
   ],
   "source": [
    "y\n",
    "# if the y column shape looks more horizontal than vertical, use the code below:\n",
    "# y = y.reshape(len(y), 1)\n",
    "# y"
   ]
  },
  {
   "attachments": {},
   "cell_type": "markdown",
   "metadata": {},
   "source": [
    "**Scaling** our Data"
   ]
  },
  {
   "cell_type": "code",
   "execution_count": 229,
   "metadata": {},
   "outputs": [],
   "source": [
    "scaler = StandardScaler()\n",
    "\n",
    "X_train = scaler.fit_transform(X_train)\n",
    "X_test = scaler.transform(X_test)"
   ]
  },
  {
   "attachments": {},
   "cell_type": "markdown",
   "metadata": {},
   "source": [
    "Conducting **PCA Analysis** to deal with **Multicollinearity**"
   ]
  },
  {
   "cell_type": "code",
   "execution_count": 233,
   "metadata": {},
   "outputs": [],
   "source": [
    "pca = PCA(n_components=0.95)\n",
    "X_train = pca.fit_transform(X_train)\n",
    "X_test = pca.transform(X_test)"
   ]
  },
  {
   "attachments": {},
   "cell_type": "markdown",
   "metadata": {},
   "source": [
    "**Training** the Model"
   ]
  },
  {
   "cell_type": "code",
   "execution_count": 234,
   "metadata": {},
   "outputs": [
    {
     "data": {
      "text/plain": [
       "KNeighborsRegressor()"
      ]
     },
     "execution_count": 234,
     "metadata": {},
     "output_type": "execute_result"
    }
   ],
   "source": [
    "regressor = KNeighborsRegressor(n_neighbors=5) \n",
    "regressor.fit(X_train, y_train)"
   ]
  },
  {
   "attachments": {},
   "cell_type": "markdown",
   "metadata": {},
   "source": [
    "Making **Predictions** with the Model"
   ]
  },
  {
   "cell_type": "code",
   "execution_count": 235,
   "metadata": {},
   "outputs": [],
   "source": [
    "y_pred = regressor.predict(X_test)"
   ]
  },
  {
   "attachments": {},
   "cell_type": "markdown",
   "metadata": {},
   "source": [
    "Calculating **Accuracies**"
   ]
  },
  {
   "cell_type": "code",
   "execution_count": 236,
   "metadata": {},
   "outputs": [
    {
     "name": "stdout",
     "output_type": "stream",
     "text": [
      "Mean Absolute Error (MAE): 90256.29191142191\n",
      "Mean Squared Error (MSE): 32989499586.639812\n",
      "Root Mean Squared Error (RMSE): 181630.1175098442\n",
      "The r-squared score (R^2): 0.9001419396528773\n",
      "The Mean Percent Error (MPE): 7.965267150603703\n"
     ]
    }
   ],
   "source": [
    "# Assuming y_test contains the actual values and y_pred contains the predicted values\n",
    "mae = mean_absolute_error(y_test, y_pred)\n",
    "mse = mean_squared_error(y_test, y_pred)\n",
    "rmse = mean_squared_error(y_test, y_pred, squared=False)  # squared=False returns RMSE\n",
    "r2 = r2_score(y_test, y_pred)\n",
    "mpe = mean_absolute_percentage_error(y_test, y_pred) * 100\n",
    "\n",
    "print(\"Mean Absolute Error (MAE):\", mae)\n",
    "print(\"Mean Squared Error (MSE):\", mse)\n",
    "print(\"Root Mean Squared Error (RMSE):\", rmse)\n",
    "print(\"The r-squared score (R^2):\", r2)\n",
    "print(\"The Mean Percent Error (MPE):\", mpe)"
   ]
  },
  {
   "attachments": {},
   "cell_type": "markdown",
   "metadata": {},
   "source": [
    "## XG Boost"
   ]
  },
  {
   "cell_type": "code",
   "execution_count": 7,
   "metadata": {},
   "outputs": [
    {
     "data": {
      "text/plain": [
       "array([[ 0.   , 42.31 ,  2.572, ...,  1.   ,  0.   ,  0.   ],\n",
       "       [ 1.   , 38.51 ,  2.548, ...,  0.   ,  0.   ,  0.   ],\n",
       "       [ 0.   , 39.93 ,  2.514, ...,  0.   ,  0.   ,  1.   ],\n",
       "       ...,\n",
       "       [ 0.   , 54.47 ,  4.   , ...,  0.   ,  0.   ,  0.   ],\n",
       "       [ 0.   , 56.47 ,  3.969, ...,  0.   ,  0.   ,  0.   ],\n",
       "       [ 0.   , 58.85 ,  3.882, ...,  0.   ,  0.   ,  0.   ]])"
      ]
     },
     "execution_count": 7,
     "metadata": {},
     "output_type": "execute_result"
    }
   ],
   "source": [
    "X"
   ]
  },
  {
   "cell_type": "code",
   "execution_count": 10,
   "metadata": {},
   "outputs": [
    {
     "data": {
      "text/plain": [
       "array([[1643690.9 ],\n",
       "       [1641957.44],\n",
       "       [1611968.17],\n",
       "       ...,\n",
       "       [ 734464.36],\n",
       "       [ 718125.53],\n",
       "       [ 760281.43]])"
      ]
     },
     "execution_count": 10,
     "metadata": {},
     "output_type": "execute_result"
    }
   ],
   "source": [
    "# y\n",
    "# if the y column shape looks more horizontal than vertical, use the code below:\n",
    "y = y.reshape(len(y), 1)\n",
    "y"
   ]
  },
  {
   "attachments": {},
   "cell_type": "markdown",
   "metadata": {},
   "source": [
    "Creating **Training** and **Test** Sets"
   ]
  },
  {
   "cell_type": "code",
   "execution_count": 11,
   "metadata": {},
   "outputs": [],
   "source": [
    "X_train, X_test, y_train, y_test = train_test_split(X, y, test_size=0.2, random_state=1)"
   ]
  },
  {
   "attachments": {},
   "cell_type": "markdown",
   "metadata": {},
   "source": [
    "**Instantiating** and **Fitting** the Model"
   ]
  },
  {
   "cell_type": "code",
   "execution_count": 12,
   "metadata": {},
   "outputs": [
    {
     "data": {
      "text/plain": [
       "XGBRegressor(base_score=None, booster=None, callbacks=None,\n",
       "             colsample_bylevel=None, colsample_bynode=None,\n",
       "             colsample_bytree=None, early_stopping_rounds=None,\n",
       "             enable_categorical=False, eval_metric=None, feature_types=None,\n",
       "             gamma=None, gpu_id=None, grow_policy=None, importance_type=None,\n",
       "             interaction_constraints=None, learning_rate=None, max_bin=None,\n",
       "             max_cat_threshold=None, max_cat_to_onehot=None,\n",
       "             max_delta_step=None, max_depth=None, max_leaves=None,\n",
       "             min_child_weight=None, missing=nan, monotone_constraints=None,\n",
       "             n_estimators=100, n_jobs=None, num_parallel_tree=None,\n",
       "             predictor=None, random_state=None, ...)"
      ]
     },
     "execution_count": 12,
     "metadata": {},
     "output_type": "execute_result"
    }
   ],
   "source": [
    "regressor = xgb.XGBRegressor()\n",
    "regressor.fit(X_train, y_train)"
   ]
  },
  {
   "attachments": {},
   "cell_type": "markdown",
   "metadata": {},
   "source": [
    "Making **Predictions**"
   ]
  },
  {
   "cell_type": "code",
   "execution_count": 13,
   "metadata": {},
   "outputs": [],
   "source": [
    "y_pred = regressor.predict(X_test)"
   ]
  },
  {
   "attachments": {},
   "cell_type": "markdown",
   "metadata": {},
   "source": [
    "Calculating **Accuracies**"
   ]
  },
  {
   "cell_type": "code",
   "execution_count": 14,
   "metadata": {},
   "outputs": [
    {
     "name": "stdout",
     "output_type": "stream",
     "text": [
      "Mean Absolute Error (MAE): 54668.28489996115\n",
      "Mean Squared Error (MSE): 9601350997.846226\n",
      "Root Mean Squared Error (RMSE): 97986.48375080222\n",
      "The r-squared score (R^2): 0.9709370466551386\n",
      "The Mean Percent Error (MPE): 5.932926537429619\n"
     ]
    }
   ],
   "source": [
    "# Assuming y_test contains the actual values and y_pred contains the predicted values\n",
    "mae = mean_absolute_error(y_test, y_pred)\n",
    "mse = mean_squared_error(y_test, y_pred)\n",
    "rmse = mean_squared_error(y_test, y_pred, squared=False)  # squared=False returns RMSE\n",
    "r2 = r2_score(y_test, y_pred)\n",
    "mpe = mean_absolute_percentage_error(y_test, y_pred) * 100\n",
    "\n",
    "print(\"Mean Absolute Error (MAE):\", mae)\n",
    "print(\"Mean Squared Error (MSE):\", mse)\n",
    "print(\"Root Mean Squared Error (RMSE):\", rmse)\n",
    "print(\"The r-squared score (R^2):\", r2)\n",
    "print(\"The Mean Percent Error (MPE):\", mpe)"
   ]
  },
  {
   "attachments": {},
   "cell_type": "markdown",
   "metadata": {},
   "source": [
    "## Neural Network"
   ]
  },
  {
   "cell_type": "code",
   "execution_count": 16,
   "metadata": {},
   "outputs": [
    {
     "data": {
      "text/plain": [
       "array([[ 0.   , 42.31 ,  2.572, ...,  1.   ,  0.   ,  0.   ],\n",
       "       [ 1.   , 38.51 ,  2.548, ...,  0.   ,  0.   ,  0.   ],\n",
       "       [ 0.   , 39.93 ,  2.514, ...,  0.   ,  0.   ,  1.   ],\n",
       "       ...,\n",
       "       [ 0.   , 54.47 ,  4.   , ...,  0.   ,  0.   ,  0.   ],\n",
       "       [ 0.   , 56.47 ,  3.969, ...,  0.   ,  0.   ,  0.   ],\n",
       "       [ 0.   , 58.85 ,  3.882, ...,  0.   ,  0.   ,  0.   ]])"
      ]
     },
     "execution_count": 16,
     "metadata": {},
     "output_type": "execute_result"
    }
   ],
   "source": [
    "X"
   ]
  },
  {
   "cell_type": "code",
   "execution_count": 17,
   "metadata": {},
   "outputs": [
    {
     "data": {
      "text/plain": [
       "array([[1643690.9 ],\n",
       "       [1641957.44],\n",
       "       [1611968.17],\n",
       "       ...,\n",
       "       [ 734464.36],\n",
       "       [ 718125.53],\n",
       "       [ 760281.43]])"
      ]
     },
     "execution_count": 17,
     "metadata": {},
     "output_type": "execute_result"
    }
   ],
   "source": [
    "y\n",
    "# if the y column shape looks more horizontal than vertical, use the code below:\n",
    "# y = y.reshape(len(y), 1)\n",
    "# y"
   ]
  },
  {
   "attachments": {},
   "cell_type": "markdown",
   "metadata": {},
   "source": [
    "Creating **Training** and **Test** Sets"
   ]
  },
  {
   "cell_type": "code",
   "execution_count": 18,
   "metadata": {},
   "outputs": [],
   "source": [
    "X_train, X_test, y_train, y_test = train_test_split(X, y, test_size=0.2, random_state=1)"
   ]
  },
  {
   "attachments": {},
   "cell_type": "markdown",
   "metadata": {},
   "source": [
    "**Scaling** X_train and X_test"
   ]
  },
  {
   "cell_type": "code",
   "execution_count": 19,
   "metadata": {},
   "outputs": [],
   "source": [
    "scaler = StandardScaler()\n",
    "X_train = scaler.fit_transform(X_train)\n",
    "X_test = scaler.transform(X_test)"
   ]
  },
  {
   "attachments": {},
   "cell_type": "markdown",
   "metadata": {},
   "source": [
    "**Define** the **Neural Network Architecture**"
   ]
  },
  {
   "cell_type": "code",
   "execution_count": 21,
   "metadata": {},
   "outputs": [],
   "source": [
    "model = Sequential()\n",
    "model.add(Dense(64, activation='relu', input_shape=(X_train.shape[1],)))\n",
    "model.add(Dense(64, activation='relu'))\n",
    "model.add(Dense(1))"
   ]
  },
  {
   "attachments": {},
   "cell_type": "markdown",
   "metadata": {},
   "source": [
    "**Compiling** the Model"
   ]
  },
  {
   "cell_type": "code",
   "execution_count": 23,
   "metadata": {},
   "outputs": [],
   "source": [
    "model.compile(loss='mean_squared_error', optimizer=Adam())"
   ]
  },
  {
   "attachments": {},
   "cell_type": "markdown",
   "metadata": {},
   "source": [
    "**Train** the Model"
   ]
  },
  {
   "cell_type": "code",
   "execution_count": 24,
   "metadata": {},
   "outputs": [
    {
     "name": "stdout",
     "output_type": "stream",
     "text": [
      "Epoch 1/50\n",
      "161/161 [==============================] - 1s 2ms/step - loss: 1407702138880.0000\n",
      "Epoch 2/50\n",
      "161/161 [==============================] - 0s 3ms/step - loss: 1406135042048.0000\n",
      "Epoch 3/50\n",
      "161/161 [==============================] - 0s 2ms/step - loss: 1399847256064.0000\n",
      "Epoch 4/50\n",
      "161/161 [==============================] - 0s 2ms/step - loss: 1385241772032.0000\n",
      "Epoch 5/50\n",
      "161/161 [==============================] - 0s 2ms/step - loss: 1359687319552.0000\n",
      "Epoch 6/50\n",
      "161/161 [==============================] - 0s 2ms/step - loss: 1321381396480.0000\n",
      "Epoch 7/50\n",
      "161/161 [==============================] - 0s 2ms/step - loss: 1269362720768.0000\n",
      "Epoch 8/50\n",
      "161/161 [==============================] - 0s 2ms/step - loss: 1203648462848.0000\n",
      "Epoch 9/50\n",
      "161/161 [==============================] - 0s 2ms/step - loss: 1124617945088.0000\n",
      "Epoch 10/50\n",
      "161/161 [==============================] - 0s 2ms/step - loss: 1033656401920.0000\n",
      "Epoch 11/50\n",
      "161/161 [==============================] - 0s 2ms/step - loss: 933731565568.0000\n",
      "Epoch 12/50\n",
      "161/161 [==============================] - 0s 1ms/step - loss: 827683110912.0000\n",
      "Epoch 13/50\n",
      "161/161 [==============================] - 0s 2ms/step - loss: 718892171264.0000\n",
      "Epoch 14/50\n",
      "161/161 [==============================] - 0s 2ms/step - loss: 611216326656.0000\n",
      "Epoch 15/50\n",
      "161/161 [==============================] - 0s 2ms/step - loss: 508133834752.0000\n",
      "Epoch 16/50\n",
      "161/161 [==============================] - 0s 2ms/step - loss: 412804939776.0000\n",
      "Epoch 17/50\n",
      "161/161 [==============================] - 0s 1ms/step - loss: 327892959232.0000\n",
      "Epoch 18/50\n",
      "161/161 [==============================] - 0s 1ms/step - loss: 255184109568.0000\n",
      "Epoch 19/50\n",
      "161/161 [==============================] - 0s 1ms/step - loss: 195526606848.0000\n",
      "Epoch 20/50\n",
      "161/161 [==============================] - 0s 1ms/step - loss: 148625571840.0000\n",
      "Epoch 21/50\n",
      "161/161 [==============================] - 0s 1ms/step - loss: 113625669632.0000\n",
      "Epoch 22/50\n",
      "161/161 [==============================] - 0s 1ms/step - loss: 88712814592.0000\n",
      "Epoch 23/50\n",
      "161/161 [==============================] - 0s 1ms/step - loss: 71752916992.0000\n",
      "Epoch 24/50\n",
      "161/161 [==============================] - 0s 2ms/step - loss: 60629331968.0000\n",
      "Epoch 25/50\n",
      "161/161 [==============================] - 0s 2ms/step - loss: 53473312768.0000\n",
      "Epoch 26/50\n",
      "161/161 [==============================] - 0s 2ms/step - loss: 48875274240.0000\n",
      "Epoch 27/50\n",
      "161/161 [==============================] - 0s 2ms/step - loss: 45788106752.0000\n",
      "Epoch 28/50\n",
      "161/161 [==============================] - 0s 1ms/step - loss: 43596595200.0000\n",
      "Epoch 29/50\n",
      "161/161 [==============================] - 0s 2ms/step - loss: 41939083264.0000\n",
      "Epoch 30/50\n",
      "161/161 [==============================] - 0s 2ms/step - loss: 40600932352.0000\n",
      "Epoch 31/50\n",
      "161/161 [==============================] - 0s 1ms/step - loss: 39487164416.0000\n",
      "Epoch 32/50\n",
      "161/161 [==============================] - 0s 2ms/step - loss: 38527209472.0000\n",
      "Epoch 33/50\n",
      "161/161 [==============================] - 0s 1ms/step - loss: 37678354432.0000\n",
      "Epoch 34/50\n",
      "161/161 [==============================] - 0s 2ms/step - loss: 36922970112.0000\n",
      "Epoch 35/50\n",
      "161/161 [==============================] - 0s 2ms/step - loss: 36240809984.0000\n",
      "Epoch 36/50\n",
      "161/161 [==============================] - 0s 1ms/step - loss: 35604746240.0000\n",
      "Epoch 37/50\n",
      "161/161 [==============================] - 0s 1ms/step - loss: 35030945792.0000\n",
      "Epoch 38/50\n",
      "161/161 [==============================] - 0s 2ms/step - loss: 34493448192.0000\n",
      "Epoch 39/50\n",
      "161/161 [==============================] - 0s 2ms/step - loss: 33992787968.0000\n",
      "Epoch 40/50\n",
      "161/161 [==============================] - 0s 2ms/step - loss: 33527060480.0000\n",
      "Epoch 41/50\n",
      "161/161 [==============================] - 0s 2ms/step - loss: 33084686336.0000\n",
      "Epoch 42/50\n",
      "161/161 [==============================] - 0s 2ms/step - loss: 32667013120.0000\n",
      "Epoch 43/50\n",
      "161/161 [==============================] - 0s 2ms/step - loss: 32271503360.0000\n",
      "Epoch 44/50\n",
      "161/161 [==============================] - 0s 2ms/step - loss: 31879362560.0000\n",
      "Epoch 45/50\n",
      "161/161 [==============================] - 0s 2ms/step - loss: 31528142848.0000\n",
      "Epoch 46/50\n",
      "161/161 [==============================] - 0s 2ms/step - loss: 31179546624.0000\n",
      "Epoch 47/50\n",
      "161/161 [==============================] - 0s 2ms/step - loss: 30848512000.0000\n",
      "Epoch 48/50\n",
      "161/161 [==============================] - 0s 2ms/step - loss: 30539857920.0000\n",
      "Epoch 49/50\n",
      "161/161 [==============================] - 0s 2ms/step - loss: 30244747264.0000\n",
      "Epoch 50/50\n",
      "161/161 [==============================] - 0s 2ms/step - loss: 29957087232.0000\n"
     ]
    },
    {
     "data": {
      "text/plain": [
       "<keras.callbacks.History at 0x24bcbf4ce20>"
      ]
     },
     "execution_count": 24,
     "metadata": {},
     "output_type": "execute_result"
    }
   ],
   "source": [
    "model.fit(X_train, y_train, epochs=50, batch_size=32, verbose=1)"
   ]
  },
  {
   "attachments": {},
   "cell_type": "markdown",
   "metadata": {},
   "source": [
    "**Predicting** results"
   ]
  },
  {
   "cell_type": "code",
   "execution_count": 25,
   "metadata": {},
   "outputs": [
    {
     "name": "stdout",
     "output_type": "stream",
     "text": [
      "41/41 [==============================] - 0s 1ms/step\n"
     ]
    }
   ],
   "source": [
    "y_pred = model.predict(X_test)"
   ]
  },
  {
   "attachments": {},
   "cell_type": "markdown",
   "metadata": {},
   "source": [
    "Calculating **Accuracies**"
   ]
  },
  {
   "cell_type": "code",
   "execution_count": 26,
   "metadata": {},
   "outputs": [
    {
     "name": "stdout",
     "output_type": "stream",
     "text": [
      "Mean Absolute Error (MAE): 115812.98732416185\n",
      "Mean Squared Error (MSE): 33199767923.24145\n",
      "Root Mean Squared Error (RMSE): 182208.03473843148\n",
      "The r-squared score (R^2): 0.8995054647590913\n",
      "The Mean Percent Error (MPE): 15.694885441840118\n"
     ]
    }
   ],
   "source": [
    "# Assuming y_test contains the actual values and y_pred contains the predicted values\n",
    "mae = mean_absolute_error(y_test, y_pred)\n",
    "mse = mean_squared_error(y_test, y_pred)\n",
    "rmse = mean_squared_error(y_test, y_pred, squared=False)  # squared=False returns RMSE\n",
    "r2 = r2_score(y_test, y_pred)\n",
    "mpe = mean_absolute_percentage_error(y_test, y_pred) * 100\n",
    "\n",
    "print(\"Mean Absolute Error (MAE):\", mae)\n",
    "print(\"Mean Squared Error (MSE):\", mse)\n",
    "print(\"Root Mean Squared Error (RMSE):\", rmse)\n",
    "print(\"The r-squared score (R^2):\", r2)\n",
    "print(\"The Mean Percent Error (MPE):\", mpe)"
   ]
  },
  {
   "attachments": {},
   "cell_type": "markdown",
   "metadata": {},
   "source": [
    "## A Comparison of R2 Scores"
   ]
  },
  {
   "attachments": {},
   "cell_type": "markdown",
   "metadata": {},
   "source": [
    "| Model | R2 Score | \n",
    "| :----: | :---: | \n",
    "| XG Boost     | 0.9709370466551386   | \n",
    "| Polynomial Regression (Degree=2)       | 0.9642879454607837 | \n",
    "| Random Forest     |   0.9420931570358188    | \n",
    "|   Multiple Linear Regression   |   0.9197706842183846     | \n",
    "|   Multiple Linear Regression with Lasso   |   0.9192668954658353     | \n",
    "|   Decision Tree   |    0.911736010218125   | \n",
    "|   Multiple Linear Regression with Ridge   |   0.9148951729367324    | \n",
    "|   K-Nearest Neighbor   |   0.9001419396528773    | \n",
    "|   Neural Network   |   0.8995054647590913    | \n",
    "|   Support Vector Machine   |   0.008025822046951347    | \n",
    "|   Polynomial Regression (Degree=4)    |   -0.2734146253581575   | \n",
    "|   Polynomial Regression (Degree=5)  |    -12,432,368.014257735   | \n",
    "|   Polynomial Regression (Degree=3)   |    -19,504,513.128262054   | \n",
    "|   Polynomial Regression (Degree=6)   |    -58,583,611.591182075   | \n"
   ]
  },
  {
   "attachments": {},
   "cell_type": "markdown",
   "metadata": {},
   "source": [
    "## A Comparison of Mean Percent Error Scores"
   ]
  },
  {
   "attachments": {},
   "cell_type": "markdown",
   "metadata": {},
   "source": [
    "| Model | MPE Score | \n",
    "| :----: | :---: | \n",
    "| Random Forest     | 5.677558722964053   | \n",
    "| XG Boost    | 5.932926537429619 | \n",
    "| Decision Tree    |   7.0629711461135045    | \n",
    "|  K-Nearest Neighbor   |   7.965267150603703     | \n",
    "|   Polynomial Regression (Degree=2)   |   8.505344225017039   | \n",
    "|   Multiple Linear Regression with Lasso  |    8.923841116914613  | \n",
    "|   Multiple Linear Regression with Ridge   |   9.050746028078454    | \n",
    "|   Multiple Linear Regression   |  9.236949826826544   | \n",
    "|   Neural Network   |   15.694885441840118  | \n",
    "|   Support Vector Machine   |  58.400793968718176    | \n",
    "|   Polynomial Regression (Degree=4)    |    72.31253932994359  | \n",
    "|   Polynomial Regression (Degree=5)  |    28,005.153083665056   | \n",
    "|   Polynomial Regression (Degree=3)   |    69,125.77232994547   | \n",
    "|   Polynomial Regression (Degree=6)   |    98,850.94908413697  | \n"
   ]
  }
 ],
 "metadata": {
  "kernelspec": {
   "display_name": "base",
   "language": "python",
   "name": "python3"
  },
  "language_info": {
   "codemirror_mode": {
    "name": "ipython",
    "version": 3
   },
   "file_extension": ".py",
   "mimetype": "text/x-python",
   "name": "python",
   "nbconvert_exporter": "python",
   "pygments_lexer": "ipython3",
   "version": "3.9.13"
  },
  "orig_nbformat": 4
 },
 "nbformat": 4,
 "nbformat_minor": 2
}
